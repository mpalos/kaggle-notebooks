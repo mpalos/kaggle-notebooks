{
 "cells": [
  {
   "cell_type": "markdown",
   "id": "bb68bc03",
   "metadata": {
    "execution": {
     "iopub.execute_input": "2022-08-04T15:06:45.838808Z",
     "iopub.status.busy": "2022-08-04T15:06:45.837413Z",
     "iopub.status.idle": "2022-08-04T15:06:45.871879Z",
     "shell.execute_reply": "2022-08-04T15:06:45.870614Z",
     "shell.execute_reply.started": "2022-08-04T15:06:45.838625Z"
    },
    "papermill": {
     "duration": 0.011544,
     "end_time": "2023-07-17T19:18:14.507476",
     "exception": false,
     "start_time": "2023-07-17T19:18:14.495932",
     "status": "completed"
    },
    "tags": []
   },
   "source": [
    "This notebook is a summary of ML courses.\n",
    "https://www.kaggle.com/learn/intermediate-machine-learning"
   ]
  },
  {
   "cell_type": "code",
   "execution_count": 1,
   "id": "1e8f6522",
   "metadata": {
    "_cell_guid": "b1076dfc-b9ad-4769-8c92-a6c4dae69d19",
    "_uuid": "8f2839f25d086af736a60e9eeb907d3b93b6e0e5",
    "execution": {
     "iopub.execute_input": "2023-07-17T19:18:14.533032Z",
     "iopub.status.busy": "2023-07-17T19:18:14.532480Z",
     "iopub.status.idle": "2023-07-17T19:18:14.557851Z",
     "shell.execute_reply": "2023-07-17T19:18:14.556409Z"
    },
    "papermill": {
     "duration": 0.042202,
     "end_time": "2023-07-17T19:18:14.560406",
     "exception": false,
     "start_time": "2023-07-17T19:18:14.518204",
     "status": "completed"
    },
    "tags": []
   },
   "outputs": [
    {
     "name": "stdout",
     "output_type": "stream",
     "text": [
      "/kaggle/input/melbourne-housing-snapshot/melb_data.csv\n"
     ]
    }
   ],
   "source": [
    "# This Python 3 environment comes with many helpful analytics libraries installed\n",
    "# It is defined by the kaggle/python Docker image: https://github.com/kaggle/docker-python\n",
    "# For example, here's several helpful packages to load\n",
    "\n",
    "import numpy as np # linear algebra\n",
    "import pandas as pd # data processing, CSV file I/O (e.g. pd.read_csv)\n",
    "\n",
    "# Input data files are available in the read-only \"../input/\" directory\n",
    "# For example, running this (by clicking run or pressing Shift+Enter) will list all files under the input directory\n",
    "\n",
    "import os\n",
    "for dirname, _, filenames in os.walk('/kaggle/input'):\n",
    "    for filename in filenames:\n",
    "        print(os.path.join(dirname, filename))\n",
    "\n",
    "# You can write up to 20GB to the current directory (/kaggle/working/) that gets preserved as output when you create a version using \"Save & Run All\" \n",
    "# You can also write temporary files to /kaggle/temp/, but they won't be saved outside of the current session"
   ]
  },
  {
   "cell_type": "markdown",
   "id": "f90bdb83",
   "metadata": {
    "papermill": {
     "duration": 0.012687,
     "end_time": "2023-07-17T19:18:14.583984",
     "exception": false,
     "start_time": "2023-07-17T19:18:14.571297",
     "status": "completed"
    },
    "tags": []
   },
   "source": [
    "some convensions:\n",
    "* the prediction target is called y\n",
    "* the features set is called X"
   ]
  },
  {
   "cell_type": "code",
   "execution_count": 2,
   "id": "c320347f",
   "metadata": {
    "execution": {
     "iopub.execute_input": "2023-07-17T19:18:14.607153Z",
     "iopub.status.busy": "2023-07-17T19:18:14.606472Z",
     "iopub.status.idle": "2023-07-17T19:18:15.741391Z",
     "shell.execute_reply": "2023-07-17T19:18:15.740296Z"
    },
    "papermill": {
     "duration": 1.149463,
     "end_time": "2023-07-17T19:18:15.744234",
     "exception": false,
     "start_time": "2023-07-17T19:18:14.594771",
     "status": "completed"
    },
    "tags": []
   },
   "outputs": [],
   "source": [
    "# dataset\n",
    "import pandas as pd\n",
    "from sklearn.model_selection import train_test_split\n",
    "\n",
    "# Load the data\n",
    "data = pd.read_csv('../input/melbourne-housing-snapshot/melb_data.csv')\n",
    "\n",
    "# Select target\n",
    "y = data.Price\n",
    "\n",
    "# To keep things simple, we'll use only numerical predictors\n",
    "melb_predictors = data.drop(['Price'], axis=1)\n",
    "X = melb_predictors.select_dtypes(exclude=['object'])\n",
    "\n",
    "# Divide data into training and validation subsets\n",
    "X_train, X_valid, y_train, y_valid = train_test_split(X, y, train_size=0.8, test_size=0.2,\n",
    "                                                      random_state=0)\n"
   ]
  },
  {
   "cell_type": "markdown",
   "id": "7dd9648d",
   "metadata": {
    "papermill": {
     "duration": 0.010253,
     "end_time": "2023-07-17T19:18:15.765125",
     "exception": false,
     "start_time": "2023-07-17T19:18:15.754872",
     "status": "completed"
    },
    "tags": []
   },
   "source": [
    "# 1. Deal with missing values"
   ]
  },
  {
   "cell_type": "code",
   "execution_count": 3,
   "id": "95086add",
   "metadata": {
    "execution": {
     "iopub.execute_input": "2023-07-17T19:18:15.788377Z",
     "iopub.status.busy": "2023-07-17T19:18:15.787931Z",
     "iopub.status.idle": "2023-07-17T19:18:15.985059Z",
     "shell.execute_reply": "2023-07-17T19:18:15.984039Z"
    },
    "papermill": {
     "duration": 0.212321,
     "end_time": "2023-07-17T19:18:15.987849",
     "exception": false,
     "start_time": "2023-07-17T19:18:15.775528",
     "status": "completed"
    },
    "tags": []
   },
   "outputs": [],
   "source": [
    "from sklearn.ensemble import RandomForestRegressor\n",
    "from sklearn.metrics import mean_absolute_error\n",
    "\n",
    "# Function for comparing different approaches\n",
    "def score_dataset(X_train, X_valid, y_train, y_valid):\n",
    "    model = RandomForestRegressor(n_estimators=10, random_state=0)\n",
    "    model.fit(X_train, y_train)\n",
    "    preds = model.predict(X_valid)\n",
    "    return mean_absolute_error(y_valid, preds)"
   ]
  },
  {
   "cell_type": "markdown",
   "id": "b079c0b7",
   "metadata": {
    "papermill": {
     "duration": 0.010577,
     "end_time": "2023-07-17T19:18:16.009372",
     "exception": false,
     "start_time": "2023-07-17T19:18:15.998795",
     "status": "completed"
    },
    "tags": []
   },
   "source": [
    "## 1.1. Drop missing rows"
   ]
  },
  {
   "cell_type": "code",
   "execution_count": 4,
   "id": "7f50341f",
   "metadata": {
    "execution": {
     "iopub.execute_input": "2023-07-17T19:18:16.033920Z",
     "iopub.status.busy": "2023-07-17T19:18:16.033471Z",
     "iopub.status.idle": "2023-07-17T19:18:16.043073Z",
     "shell.execute_reply": "2023-07-17T19:18:16.042003Z"
    },
    "papermill": {
     "duration": 0.024028,
     "end_time": "2023-07-17T19:18:16.045225",
     "exception": false,
     "start_time": "2023-07-17T19:18:16.021197",
     "status": "completed"
    },
    "tags": []
   },
   "outputs": [
    {
     "data": {
      "text/plain": [
       "(10864, 12)"
      ]
     },
     "execution_count": 4,
     "metadata": {},
     "output_type": "execute_result"
    }
   ],
   "source": [
    "X_train.shape"
   ]
  },
  {
   "cell_type": "code",
   "execution_count": 5,
   "id": "f7f9ae51",
   "metadata": {
    "execution": {
     "iopub.execute_input": "2023-07-17T19:18:16.069124Z",
     "iopub.status.busy": "2023-07-17T19:18:16.068703Z",
     "iopub.status.idle": "2023-07-17T19:18:16.076233Z",
     "shell.execute_reply": "2023-07-17T19:18:16.075077Z"
    },
    "papermill": {
     "duration": 0.022564,
     "end_time": "2023-07-17T19:18:16.078624",
     "exception": false,
     "start_time": "2023-07-17T19:18:16.056060",
     "status": "completed"
    },
    "tags": []
   },
   "outputs": [
    {
     "data": {
      "text/plain": [
       "(2716, 12)"
      ]
     },
     "execution_count": 5,
     "metadata": {},
     "output_type": "execute_result"
    }
   ],
   "source": [
    "X_valid.shape"
   ]
  },
  {
   "cell_type": "code",
   "execution_count": 6,
   "id": "7d50c537",
   "metadata": {
    "execution": {
     "iopub.execute_input": "2023-07-17T19:18:16.101934Z",
     "iopub.status.busy": "2023-07-17T19:18:16.101552Z",
     "iopub.status.idle": "2023-07-17T19:18:16.110570Z",
     "shell.execute_reply": "2023-07-17T19:18:16.109473Z"
    },
    "papermill": {
     "duration": 0.023982,
     "end_time": "2023-07-17T19:18:16.113605",
     "exception": false,
     "start_time": "2023-07-17T19:18:16.089623",
     "status": "completed"
    },
    "tags": []
   },
   "outputs": [
    {
     "name": "stdout",
     "output_type": "stream",
     "text": [
      "(10864, 12)\n",
      "Car               49\n",
      "BuildingArea    5156\n",
      "YearBuilt       4307\n",
      "dtype: int64\n"
     ]
    }
   ],
   "source": [
    "# Shape of training data (num_rows, num_columns)\n",
    "print(X_train.shape)\n",
    "\n",
    "# Number of missing values in each column of training data\n",
    "missing_val_count_by_column = (X_train.isnull().sum())\n",
    "print(missing_val_count_by_column[missing_val_count_by_column > 0])"
   ]
  },
  {
   "cell_type": "code",
   "execution_count": 7,
   "id": "1a4148cb",
   "metadata": {
    "execution": {
     "iopub.execute_input": "2023-07-17T19:18:16.137610Z",
     "iopub.status.busy": "2023-07-17T19:18:16.136997Z",
     "iopub.status.idle": "2023-07-17T19:18:16.146522Z",
     "shell.execute_reply": "2023-07-17T19:18:16.145282Z"
    },
    "papermill": {
     "duration": 0.024415,
     "end_time": "2023-07-17T19:18:16.149053",
     "exception": false,
     "start_time": "2023-07-17T19:18:16.124638",
     "status": "completed"
    },
    "tags": []
   },
   "outputs": [
    {
     "name": "stdout",
     "output_type": "stream",
     "text": [
      "(2716, 12)\n",
      "Car               13\n",
      "BuildingArea    1294\n",
      "YearBuilt       1068\n",
      "dtype: int64\n"
     ]
    }
   ],
   "source": [
    "# Shape of test data (num_rows, num_columns)\n",
    "print(X_valid.shape)\n",
    "\n",
    "# Number of missing values in each column of training data\n",
    "missing_val_count_by_column = (X_valid.isnull().sum())\n",
    "print(missing_val_count_by_column[missing_val_count_by_column > 0])"
   ]
  },
  {
   "cell_type": "code",
   "execution_count": 8,
   "id": "155ad8c5",
   "metadata": {
    "execution": {
     "iopub.execute_input": "2023-07-17T19:18:16.173749Z",
     "iopub.status.busy": "2023-07-17T19:18:16.172657Z",
     "iopub.status.idle": "2023-07-17T19:18:16.181460Z",
     "shell.execute_reply": "2023-07-17T19:18:16.180102Z"
    },
    "papermill": {
     "duration": 0.023899,
     "end_time": "2023-07-17T19:18:16.183856",
     "exception": false,
     "start_time": "2023-07-17T19:18:16.159957",
     "status": "completed"
    },
    "tags": []
   },
   "outputs": [
    {
     "name": "stdout",
     "output_type": "stream",
     "text": [
      "# of original train rows: 10864\n",
      "# of columns with missing values: 3\n",
      "# of rows that wil be dropped: 9512\n"
     ]
    }
   ],
   "source": [
    "print(f'# of original train rows: {X_train.shape[0]}')\n",
    "print(f'# of columns with missing values: {missing_val_count_by_column[lambda x: x!=0].size}')\n",
    "print(f'# of rows that wil be dropped: {X_train.isnull().values.sum()}')"
   ]
  },
  {
   "cell_type": "code",
   "execution_count": 9,
   "id": "3b456a15",
   "metadata": {
    "execution": {
     "iopub.execute_input": "2023-07-17T19:18:16.208040Z",
     "iopub.status.busy": "2023-07-17T19:18:16.207394Z",
     "iopub.status.idle": "2023-07-17T19:18:16.218190Z",
     "shell.execute_reply": "2023-07-17T19:18:16.217107Z"
    },
    "papermill": {
     "duration": 0.025418,
     "end_time": "2023-07-17T19:18:16.220414",
     "exception": false,
     "start_time": "2023-07-17T19:18:16.194996",
     "status": "completed"
    },
    "tags": []
   },
   "outputs": [
    {
     "data": {
      "text/plain": [
       "['Car', 'BuildingArea', 'YearBuilt']"
      ]
     },
     "execution_count": 9,
     "metadata": {},
     "output_type": "execute_result"
    }
   ],
   "source": [
    "# Get names of columns with missing values\n",
    "cols_with_missing = [col for col in X_train.columns\n",
    "                     if X_train[col].isnull().any()]\n",
    "cols_with_missing"
   ]
  },
  {
   "cell_type": "code",
   "execution_count": 10,
   "id": "79a8c231",
   "metadata": {
    "execution": {
     "iopub.execute_input": "2023-07-17T19:18:16.244941Z",
     "iopub.status.busy": "2023-07-17T19:18:16.244229Z",
     "iopub.status.idle": "2023-07-17T19:18:16.252230Z",
     "shell.execute_reply": "2023-07-17T19:18:16.251198Z"
    },
    "papermill": {
     "duration": 0.022643,
     "end_time": "2023-07-17T19:18:16.254439",
     "exception": false,
     "start_time": "2023-07-17T19:18:16.231796",
     "status": "completed"
    },
    "tags": []
   },
   "outputs": [],
   "source": [
    "# Drop columns in training and validation data\n",
    "reduced_X_train = X_train.drop(cols_with_missing, axis=1)\n",
    "reduced_X_valid = X_valid.drop(cols_with_missing, axis=1)"
   ]
  },
  {
   "cell_type": "code",
   "execution_count": 11,
   "id": "20961cce",
   "metadata": {
    "execution": {
     "iopub.execute_input": "2023-07-17T19:18:16.279198Z",
     "iopub.status.busy": "2023-07-17T19:18:16.278577Z",
     "iopub.status.idle": "2023-07-17T19:18:16.285131Z",
     "shell.execute_reply": "2023-07-17T19:18:16.283714Z"
    },
    "papermill": {
     "duration": 0.021762,
     "end_time": "2023-07-17T19:18:16.287430",
     "exception": false,
     "start_time": "2023-07-17T19:18:16.265668",
     "status": "completed"
    },
    "tags": []
   },
   "outputs": [
    {
     "data": {
      "text/plain": [
       "(10864, 9)"
      ]
     },
     "execution_count": 11,
     "metadata": {},
     "output_type": "execute_result"
    }
   ],
   "source": [
    "reduced_X_train.shape"
   ]
  },
  {
   "cell_type": "code",
   "execution_count": 12,
   "id": "b175820e",
   "metadata": {
    "execution": {
     "iopub.execute_input": "2023-07-17T19:18:16.311839Z",
     "iopub.status.busy": "2023-07-17T19:18:16.311474Z",
     "iopub.status.idle": "2023-07-17T19:18:16.318706Z",
     "shell.execute_reply": "2023-07-17T19:18:16.317517Z"
    },
    "papermill": {
     "duration": 0.022343,
     "end_time": "2023-07-17T19:18:16.320970",
     "exception": false,
     "start_time": "2023-07-17T19:18:16.298627",
     "status": "completed"
    },
    "tags": []
   },
   "outputs": [
    {
     "data": {
      "text/plain": [
       "(2716, 9)"
      ]
     },
     "execution_count": 12,
     "metadata": {},
     "output_type": "execute_result"
    }
   ],
   "source": [
    "reduced_X_valid.shape"
   ]
  },
  {
   "cell_type": "code",
   "execution_count": 13,
   "id": "f20e7a76",
   "metadata": {
    "execution": {
     "iopub.execute_input": "2023-07-17T19:18:16.346210Z",
     "iopub.status.busy": "2023-07-17T19:18:16.345815Z",
     "iopub.status.idle": "2023-07-17T19:18:16.828101Z",
     "shell.execute_reply": "2023-07-17T19:18:16.826757Z"
    },
    "papermill": {
     "duration": 0.497286,
     "end_time": "2023-07-17T19:18:16.830592",
     "exception": false,
     "start_time": "2023-07-17T19:18:16.333306",
     "status": "completed"
    },
    "tags": []
   },
   "outputs": [
    {
     "name": "stdout",
     "output_type": "stream",
     "text": [
      "MAE from Approach 1 (Drop columns with missing values):\n",
      "183550.22137772635\n"
     ]
    }
   ],
   "source": [
    "\n",
    "print(\"MAE from Approach 1 (Drop columns with missing values):\")\n",
    "print(score_dataset(reduced_X_train, reduced_X_valid, y_train, y_valid))"
   ]
  },
  {
   "cell_type": "markdown",
   "id": "250f672a",
   "metadata": {
    "papermill": {
     "duration": 0.011036,
     "end_time": "2023-07-17T19:18:16.853082",
     "exception": false,
     "start_time": "2023-07-17T19:18:16.842046",
     "status": "completed"
    },
    "tags": []
   },
   "source": [
    "## 2.2. Imputation"
   ]
  },
  {
   "cell_type": "markdown",
   "id": "638a5991",
   "metadata": {
    "papermill": {
     "duration": 0.011411,
     "end_time": "2023-07-17T19:18:16.876557",
     "exception": false,
     "start_time": "2023-07-17T19:18:16.865146",
     "status": "completed"
    },
    "tags": []
   },
   "source": [
    "### 2.2.1. Simple imputation"
   ]
  },
  {
   "cell_type": "code",
   "execution_count": 14,
   "id": "008d8b78",
   "metadata": {
    "execution": {
     "iopub.execute_input": "2023-07-17T19:18:16.901123Z",
     "iopub.status.busy": "2023-07-17T19:18:16.900747Z",
     "iopub.status.idle": "2023-07-17T19:18:16.919862Z",
     "shell.execute_reply": "2023-07-17T19:18:16.918962Z"
    },
    "papermill": {
     "duration": 0.034678,
     "end_time": "2023-07-17T19:18:16.922335",
     "exception": false,
     "start_time": "2023-07-17T19:18:16.887657",
     "status": "completed"
    },
    "tags": []
   },
   "outputs": [],
   "source": [
    "from sklearn.impute import SimpleImputer\n",
    "\n",
    "# Imputation\n",
    "my_imputer = SimpleImputer()\n",
    "imputed_X_train = pd.DataFrame(my_imputer.fit_transform(X_train))\n",
    "imputed_X_valid = pd.DataFrame(my_imputer.transform(X_valid))\n",
    "\n",
    "# Imputation removed column names; put them back\n",
    "imputed_X_train.columns = X_train.columns\n",
    "imputed_X_valid.columns = X_valid.columns"
   ]
  },
  {
   "cell_type": "code",
   "execution_count": 15,
   "id": "0c086542",
   "metadata": {
    "execution": {
     "iopub.execute_input": "2023-07-17T19:18:16.947418Z",
     "iopub.status.busy": "2023-07-17T19:18:16.947051Z",
     "iopub.status.idle": "2023-07-17T19:18:16.980483Z",
     "shell.execute_reply": "2023-07-17T19:18:16.979344Z"
    },
    "papermill": {
     "duration": 0.048499,
     "end_time": "2023-07-17T19:18:16.982769",
     "exception": false,
     "start_time": "2023-07-17T19:18:16.934270",
     "status": "completed"
    },
    "tags": []
   },
   "outputs": [
    {
     "data": {
      "text/html": [
       "<div>\n",
       "<style scoped>\n",
       "    .dataframe tbody tr th:only-of-type {\n",
       "        vertical-align: middle;\n",
       "    }\n",
       "\n",
       "    .dataframe tbody tr th {\n",
       "        vertical-align: top;\n",
       "    }\n",
       "\n",
       "    .dataframe thead th {\n",
       "        text-align: right;\n",
       "    }\n",
       "</style>\n",
       "<table border=\"1\" class=\"dataframe\">\n",
       "  <thead>\n",
       "    <tr style=\"text-align: right;\">\n",
       "      <th></th>\n",
       "      <th>Rooms</th>\n",
       "      <th>Distance</th>\n",
       "      <th>Postcode</th>\n",
       "      <th>Bedroom2</th>\n",
       "      <th>Bathroom</th>\n",
       "      <th>Car</th>\n",
       "      <th>Landsize</th>\n",
       "      <th>BuildingArea</th>\n",
       "      <th>YearBuilt</th>\n",
       "      <th>Lattitude</th>\n",
       "      <th>Longtitude</th>\n",
       "      <th>Propertycount</th>\n",
       "    </tr>\n",
       "  </thead>\n",
       "  <tbody>\n",
       "    <tr>\n",
       "      <th>0</th>\n",
       "      <td>1.0</td>\n",
       "      <td>5.0</td>\n",
       "      <td>3182.0</td>\n",
       "      <td>1.0</td>\n",
       "      <td>1.0</td>\n",
       "      <td>1.0</td>\n",
       "      <td>0.0</td>\n",
       "      <td>153.764119</td>\n",
       "      <td>1940.000000</td>\n",
       "      <td>-37.85984</td>\n",
       "      <td>144.98670</td>\n",
       "      <td>13240.0</td>\n",
       "    </tr>\n",
       "    <tr>\n",
       "      <th>1</th>\n",
       "      <td>2.0</td>\n",
       "      <td>8.0</td>\n",
       "      <td>3016.0</td>\n",
       "      <td>2.0</td>\n",
       "      <td>2.0</td>\n",
       "      <td>1.0</td>\n",
       "      <td>193.0</td>\n",
       "      <td>153.764119</td>\n",
       "      <td>1964.839866</td>\n",
       "      <td>-37.85800</td>\n",
       "      <td>144.90050</td>\n",
       "      <td>6380.0</td>\n",
       "    </tr>\n",
       "    <tr>\n",
       "      <th>2</th>\n",
       "      <td>3.0</td>\n",
       "      <td>12.6</td>\n",
       "      <td>3020.0</td>\n",
       "      <td>3.0</td>\n",
       "      <td>1.0</td>\n",
       "      <td>1.0</td>\n",
       "      <td>555.0</td>\n",
       "      <td>153.764119</td>\n",
       "      <td>1964.839866</td>\n",
       "      <td>-37.79880</td>\n",
       "      <td>144.82200</td>\n",
       "      <td>3755.0</td>\n",
       "    </tr>\n",
       "    <tr>\n",
       "      <th>3</th>\n",
       "      <td>3.0</td>\n",
       "      <td>13.0</td>\n",
       "      <td>3046.0</td>\n",
       "      <td>3.0</td>\n",
       "      <td>1.0</td>\n",
       "      <td>1.0</td>\n",
       "      <td>265.0</td>\n",
       "      <td>153.764119</td>\n",
       "      <td>1995.000000</td>\n",
       "      <td>-37.70830</td>\n",
       "      <td>144.91580</td>\n",
       "      <td>8870.0</td>\n",
       "    </tr>\n",
       "    <tr>\n",
       "      <th>4</th>\n",
       "      <td>3.0</td>\n",
       "      <td>13.3</td>\n",
       "      <td>3020.0</td>\n",
       "      <td>3.0</td>\n",
       "      <td>1.0</td>\n",
       "      <td>2.0</td>\n",
       "      <td>673.0</td>\n",
       "      <td>673.000000</td>\n",
       "      <td>1970.000000</td>\n",
       "      <td>-37.76230</td>\n",
       "      <td>144.82720</td>\n",
       "      <td>4217.0</td>\n",
       "    </tr>\n",
       "    <tr>\n",
       "      <th>...</th>\n",
       "      <td>...</td>\n",
       "      <td>...</td>\n",
       "      <td>...</td>\n",
       "      <td>...</td>\n",
       "      <td>...</td>\n",
       "      <td>...</td>\n",
       "      <td>...</td>\n",
       "      <td>...</td>\n",
       "      <td>...</td>\n",
       "      <td>...</td>\n",
       "      <td>...</td>\n",
       "      <td>...</td>\n",
       "    </tr>\n",
       "    <tr>\n",
       "      <th>10859</th>\n",
       "      <td>3.0</td>\n",
       "      <td>5.2</td>\n",
       "      <td>3056.0</td>\n",
       "      <td>3.0</td>\n",
       "      <td>1.0</td>\n",
       "      <td>2.0</td>\n",
       "      <td>212.0</td>\n",
       "      <td>153.764119</td>\n",
       "      <td>1964.839866</td>\n",
       "      <td>-37.77695</td>\n",
       "      <td>144.95785</td>\n",
       "      <td>11918.0</td>\n",
       "    </tr>\n",
       "    <tr>\n",
       "      <th>10860</th>\n",
       "      <td>3.0</td>\n",
       "      <td>10.5</td>\n",
       "      <td>3081.0</td>\n",
       "      <td>3.0</td>\n",
       "      <td>1.0</td>\n",
       "      <td>1.0</td>\n",
       "      <td>748.0</td>\n",
       "      <td>101.000000</td>\n",
       "      <td>1950.000000</td>\n",
       "      <td>-37.74160</td>\n",
       "      <td>145.04810</td>\n",
       "      <td>2947.0</td>\n",
       "    </tr>\n",
       "    <tr>\n",
       "      <th>10861</th>\n",
       "      <td>4.0</td>\n",
       "      <td>6.7</td>\n",
       "      <td>3058.0</td>\n",
       "      <td>4.0</td>\n",
       "      <td>2.0</td>\n",
       "      <td>2.0</td>\n",
       "      <td>441.0</td>\n",
       "      <td>255.000000</td>\n",
       "      <td>2002.000000</td>\n",
       "      <td>-37.73572</td>\n",
       "      <td>144.97256</td>\n",
       "      <td>11204.0</td>\n",
       "    </tr>\n",
       "    <tr>\n",
       "      <th>10862</th>\n",
       "      <td>3.0</td>\n",
       "      <td>12.0</td>\n",
       "      <td>3073.0</td>\n",
       "      <td>3.0</td>\n",
       "      <td>1.0</td>\n",
       "      <td>1.0</td>\n",
       "      <td>606.0</td>\n",
       "      <td>153.764119</td>\n",
       "      <td>1964.839866</td>\n",
       "      <td>-37.72057</td>\n",
       "      <td>145.02615</td>\n",
       "      <td>21650.0</td>\n",
       "    </tr>\n",
       "    <tr>\n",
       "      <th>10863</th>\n",
       "      <td>4.0</td>\n",
       "      <td>6.4</td>\n",
       "      <td>3011.0</td>\n",
       "      <td>4.0</td>\n",
       "      <td>2.0</td>\n",
       "      <td>1.0</td>\n",
       "      <td>319.0</td>\n",
       "      <td>130.000000</td>\n",
       "      <td>1915.000000</td>\n",
       "      <td>-37.79430</td>\n",
       "      <td>144.88750</td>\n",
       "      <td>7570.0</td>\n",
       "    </tr>\n",
       "  </tbody>\n",
       "</table>\n",
       "<p>10864 rows × 12 columns</p>\n",
       "</div>"
      ],
      "text/plain": [
       "       Rooms  Distance  Postcode  Bedroom2  Bathroom  Car  Landsize  \\\n",
       "0        1.0       5.0    3182.0       1.0       1.0  1.0       0.0   \n",
       "1        2.0       8.0    3016.0       2.0       2.0  1.0     193.0   \n",
       "2        3.0      12.6    3020.0       3.0       1.0  1.0     555.0   \n",
       "3        3.0      13.0    3046.0       3.0       1.0  1.0     265.0   \n",
       "4        3.0      13.3    3020.0       3.0       1.0  2.0     673.0   \n",
       "...      ...       ...       ...       ...       ...  ...       ...   \n",
       "10859    3.0       5.2    3056.0       3.0       1.0  2.0     212.0   \n",
       "10860    3.0      10.5    3081.0       3.0       1.0  1.0     748.0   \n",
       "10861    4.0       6.7    3058.0       4.0       2.0  2.0     441.0   \n",
       "10862    3.0      12.0    3073.0       3.0       1.0  1.0     606.0   \n",
       "10863    4.0       6.4    3011.0       4.0       2.0  1.0     319.0   \n",
       "\n",
       "       BuildingArea    YearBuilt  Lattitude  Longtitude  Propertycount  \n",
       "0        153.764119  1940.000000  -37.85984   144.98670        13240.0  \n",
       "1        153.764119  1964.839866  -37.85800   144.90050         6380.0  \n",
       "2        153.764119  1964.839866  -37.79880   144.82200         3755.0  \n",
       "3        153.764119  1995.000000  -37.70830   144.91580         8870.0  \n",
       "4        673.000000  1970.000000  -37.76230   144.82720         4217.0  \n",
       "...             ...          ...        ...         ...            ...  \n",
       "10859    153.764119  1964.839866  -37.77695   144.95785        11918.0  \n",
       "10860    101.000000  1950.000000  -37.74160   145.04810         2947.0  \n",
       "10861    255.000000  2002.000000  -37.73572   144.97256        11204.0  \n",
       "10862    153.764119  1964.839866  -37.72057   145.02615        21650.0  \n",
       "10863    130.000000  1915.000000  -37.79430   144.88750         7570.0  \n",
       "\n",
       "[10864 rows x 12 columns]"
      ]
     },
     "execution_count": 15,
     "metadata": {},
     "output_type": "execute_result"
    }
   ],
   "source": [
    "imputed_X_train"
   ]
  },
  {
   "cell_type": "code",
   "execution_count": 16,
   "id": "10544659",
   "metadata": {
    "execution": {
     "iopub.execute_input": "2023-07-17T19:18:17.008325Z",
     "iopub.status.busy": "2023-07-17T19:18:17.007925Z",
     "iopub.status.idle": "2023-07-17T19:18:17.039718Z",
     "shell.execute_reply": "2023-07-17T19:18:17.038703Z"
    },
    "papermill": {
     "duration": 0.047431,
     "end_time": "2023-07-17T19:18:17.042134",
     "exception": false,
     "start_time": "2023-07-17T19:18:16.994703",
     "status": "completed"
    },
    "tags": []
   },
   "outputs": [
    {
     "data": {
      "text/html": [
       "<div>\n",
       "<style scoped>\n",
       "    .dataframe tbody tr th:only-of-type {\n",
       "        vertical-align: middle;\n",
       "    }\n",
       "\n",
       "    .dataframe tbody tr th {\n",
       "        vertical-align: top;\n",
       "    }\n",
       "\n",
       "    .dataframe thead th {\n",
       "        text-align: right;\n",
       "    }\n",
       "</style>\n",
       "<table border=\"1\" class=\"dataframe\">\n",
       "  <thead>\n",
       "    <tr style=\"text-align: right;\">\n",
       "      <th></th>\n",
       "      <th>Rooms</th>\n",
       "      <th>Distance</th>\n",
       "      <th>Postcode</th>\n",
       "      <th>Bedroom2</th>\n",
       "      <th>Bathroom</th>\n",
       "      <th>Car</th>\n",
       "      <th>Landsize</th>\n",
       "      <th>BuildingArea</th>\n",
       "      <th>YearBuilt</th>\n",
       "      <th>Lattitude</th>\n",
       "      <th>Longtitude</th>\n",
       "      <th>Propertycount</th>\n",
       "    </tr>\n",
       "  </thead>\n",
       "  <tbody>\n",
       "    <tr>\n",
       "      <th>0</th>\n",
       "      <td>4.0</td>\n",
       "      <td>8.0</td>\n",
       "      <td>3016.0</td>\n",
       "      <td>4.0</td>\n",
       "      <td>2.0</td>\n",
       "      <td>2.0</td>\n",
       "      <td>450.0</td>\n",
       "      <td>190.000000</td>\n",
       "      <td>1910.000000</td>\n",
       "      <td>-37.86100</td>\n",
       "      <td>144.89850</td>\n",
       "      <td>6380.0</td>\n",
       "    </tr>\n",
       "    <tr>\n",
       "      <th>1</th>\n",
       "      <td>2.0</td>\n",
       "      <td>6.6</td>\n",
       "      <td>3011.0</td>\n",
       "      <td>2.0</td>\n",
       "      <td>1.0</td>\n",
       "      <td>0.0</td>\n",
       "      <td>172.0</td>\n",
       "      <td>81.000000</td>\n",
       "      <td>1900.000000</td>\n",
       "      <td>-37.81000</td>\n",
       "      <td>144.88960</td>\n",
       "      <td>2417.0</td>\n",
       "    </tr>\n",
       "    <tr>\n",
       "      <th>2</th>\n",
       "      <td>3.0</td>\n",
       "      <td>10.5</td>\n",
       "      <td>3020.0</td>\n",
       "      <td>3.0</td>\n",
       "      <td>1.0</td>\n",
       "      <td>1.0</td>\n",
       "      <td>581.0</td>\n",
       "      <td>153.764119</td>\n",
       "      <td>1964.839866</td>\n",
       "      <td>-37.76740</td>\n",
       "      <td>144.82421</td>\n",
       "      <td>4217.0</td>\n",
       "    </tr>\n",
       "    <tr>\n",
       "      <th>3</th>\n",
       "      <td>3.0</td>\n",
       "      <td>4.5</td>\n",
       "      <td>3181.0</td>\n",
       "      <td>2.0</td>\n",
       "      <td>2.0</td>\n",
       "      <td>1.0</td>\n",
       "      <td>128.0</td>\n",
       "      <td>134.000000</td>\n",
       "      <td>2000.000000</td>\n",
       "      <td>-37.85260</td>\n",
       "      <td>145.00710</td>\n",
       "      <td>7717.0</td>\n",
       "    </tr>\n",
       "    <tr>\n",
       "      <th>4</th>\n",
       "      <td>3.0</td>\n",
       "      <td>8.5</td>\n",
       "      <td>3044.0</td>\n",
       "      <td>3.0</td>\n",
       "      <td>2.0</td>\n",
       "      <td>2.0</td>\n",
       "      <td>480.0</td>\n",
       "      <td>153.764119</td>\n",
       "      <td>1964.839866</td>\n",
       "      <td>-37.72523</td>\n",
       "      <td>144.94567</td>\n",
       "      <td>7485.0</td>\n",
       "    </tr>\n",
       "    <tr>\n",
       "      <th>...</th>\n",
       "      <td>...</td>\n",
       "      <td>...</td>\n",
       "      <td>...</td>\n",
       "      <td>...</td>\n",
       "      <td>...</td>\n",
       "      <td>...</td>\n",
       "      <td>...</td>\n",
       "      <td>...</td>\n",
       "      <td>...</td>\n",
       "      <td>...</td>\n",
       "      <td>...</td>\n",
       "      <td>...</td>\n",
       "    </tr>\n",
       "    <tr>\n",
       "      <th>2711</th>\n",
       "      <td>2.0</td>\n",
       "      <td>6.4</td>\n",
       "      <td>3011.0</td>\n",
       "      <td>2.0</td>\n",
       "      <td>1.0</td>\n",
       "      <td>1.0</td>\n",
       "      <td>47.0</td>\n",
       "      <td>35.000000</td>\n",
       "      <td>2013.000000</td>\n",
       "      <td>-37.80140</td>\n",
       "      <td>144.89590</td>\n",
       "      <td>7570.0</td>\n",
       "    </tr>\n",
       "    <tr>\n",
       "      <th>2712</th>\n",
       "      <td>4.0</td>\n",
       "      <td>8.0</td>\n",
       "      <td>3016.0</td>\n",
       "      <td>4.0</td>\n",
       "      <td>2.0</td>\n",
       "      <td>4.0</td>\n",
       "      <td>551.0</td>\n",
       "      <td>153.764119</td>\n",
       "      <td>1964.839866</td>\n",
       "      <td>-37.85790</td>\n",
       "      <td>144.87860</td>\n",
       "      <td>6380.0</td>\n",
       "    </tr>\n",
       "    <tr>\n",
       "      <th>2713</th>\n",
       "      <td>3.0</td>\n",
       "      <td>10.8</td>\n",
       "      <td>3105.0</td>\n",
       "      <td>3.0</td>\n",
       "      <td>1.0</td>\n",
       "      <td>1.0</td>\n",
       "      <td>757.0</td>\n",
       "      <td>153.764119</td>\n",
       "      <td>1964.839866</td>\n",
       "      <td>-37.78094</td>\n",
       "      <td>145.10131</td>\n",
       "      <td>4480.0</td>\n",
       "    </tr>\n",
       "    <tr>\n",
       "      <th>2714</th>\n",
       "      <td>4.0</td>\n",
       "      <td>6.2</td>\n",
       "      <td>3039.0</td>\n",
       "      <td>4.0</td>\n",
       "      <td>1.0</td>\n",
       "      <td>3.0</td>\n",
       "      <td>478.0</td>\n",
       "      <td>152.000000</td>\n",
       "      <td>1925.000000</td>\n",
       "      <td>-37.76421</td>\n",
       "      <td>144.90571</td>\n",
       "      <td>6232.0</td>\n",
       "    </tr>\n",
       "    <tr>\n",
       "      <th>2715</th>\n",
       "      <td>2.0</td>\n",
       "      <td>1.6</td>\n",
       "      <td>3066.0</td>\n",
       "      <td>2.0</td>\n",
       "      <td>1.0</td>\n",
       "      <td>2.0</td>\n",
       "      <td>159.0</td>\n",
       "      <td>86.000000</td>\n",
       "      <td>1880.000000</td>\n",
       "      <td>-37.79620</td>\n",
       "      <td>144.98870</td>\n",
       "      <td>4553.0</td>\n",
       "    </tr>\n",
       "  </tbody>\n",
       "</table>\n",
       "<p>2716 rows × 12 columns</p>\n",
       "</div>"
      ],
      "text/plain": [
       "      Rooms  Distance  Postcode  Bedroom2  Bathroom  Car  Landsize  \\\n",
       "0       4.0       8.0    3016.0       4.0       2.0  2.0     450.0   \n",
       "1       2.0       6.6    3011.0       2.0       1.0  0.0     172.0   \n",
       "2       3.0      10.5    3020.0       3.0       1.0  1.0     581.0   \n",
       "3       3.0       4.5    3181.0       2.0       2.0  1.0     128.0   \n",
       "4       3.0       8.5    3044.0       3.0       2.0  2.0     480.0   \n",
       "...     ...       ...       ...       ...       ...  ...       ...   \n",
       "2711    2.0       6.4    3011.0       2.0       1.0  1.0      47.0   \n",
       "2712    4.0       8.0    3016.0       4.0       2.0  4.0     551.0   \n",
       "2713    3.0      10.8    3105.0       3.0       1.0  1.0     757.0   \n",
       "2714    4.0       6.2    3039.0       4.0       1.0  3.0     478.0   \n",
       "2715    2.0       1.6    3066.0       2.0       1.0  2.0     159.0   \n",
       "\n",
       "      BuildingArea    YearBuilt  Lattitude  Longtitude  Propertycount  \n",
       "0       190.000000  1910.000000  -37.86100   144.89850         6380.0  \n",
       "1        81.000000  1900.000000  -37.81000   144.88960         2417.0  \n",
       "2       153.764119  1964.839866  -37.76740   144.82421         4217.0  \n",
       "3       134.000000  2000.000000  -37.85260   145.00710         7717.0  \n",
       "4       153.764119  1964.839866  -37.72523   144.94567         7485.0  \n",
       "...            ...          ...        ...         ...            ...  \n",
       "2711     35.000000  2013.000000  -37.80140   144.89590         7570.0  \n",
       "2712    153.764119  1964.839866  -37.85790   144.87860         6380.0  \n",
       "2713    153.764119  1964.839866  -37.78094   145.10131         4480.0  \n",
       "2714    152.000000  1925.000000  -37.76421   144.90571         6232.0  \n",
       "2715     86.000000  1880.000000  -37.79620   144.98870         4553.0  \n",
       "\n",
       "[2716 rows x 12 columns]"
      ]
     },
     "execution_count": 16,
     "metadata": {},
     "output_type": "execute_result"
    }
   ],
   "source": [
    "imputed_X_valid"
   ]
  },
  {
   "cell_type": "code",
   "execution_count": 17,
   "id": "37b3c73b",
   "metadata": {
    "execution": {
     "iopub.execute_input": "2023-07-17T19:18:17.069263Z",
     "iopub.status.busy": "2023-07-17T19:18:17.068907Z",
     "iopub.status.idle": "2023-07-17T19:18:17.669045Z",
     "shell.execute_reply": "2023-07-17T19:18:17.667579Z"
    },
    "papermill": {
     "duration": 0.616867,
     "end_time": "2023-07-17T19:18:17.671607",
     "exception": false,
     "start_time": "2023-07-17T19:18:17.054740",
     "status": "completed"
    },
    "tags": []
   },
   "outputs": [
    {
     "name": "stdout",
     "output_type": "stream",
     "text": [
      "MAE from Approach 2 (Imputation):\n",
      "178166.46269899711\n"
     ]
    }
   ],
   "source": [
    "print(\"MAE from Approach 2 (Imputation):\")\n",
    "print(score_dataset(imputed_X_train, imputed_X_valid, y_train, y_valid))"
   ]
  },
  {
   "cell_type": "markdown",
   "id": "93d789e0",
   "metadata": {
    "papermill": {
     "duration": 0.011909,
     "end_time": "2023-07-17T19:18:17.696266",
     "exception": false,
     "start_time": "2023-07-17T19:18:17.684357",
     "status": "completed"
    },
    "tags": []
   },
   "source": [
    "### 2.2.2 Extended imputation"
   ]
  },
  {
   "cell_type": "code",
   "execution_count": 18,
   "id": "5b343221",
   "metadata": {
    "execution": {
     "iopub.execute_input": "2023-07-17T19:18:17.723720Z",
     "iopub.status.busy": "2023-07-17T19:18:17.723263Z",
     "iopub.status.idle": "2023-07-17T19:18:17.823787Z",
     "shell.execute_reply": "2023-07-17T19:18:17.822518Z"
    },
    "papermill": {
     "duration": 0.117729,
     "end_time": "2023-07-17T19:18:17.826568",
     "exception": false,
     "start_time": "2023-07-17T19:18:17.708839",
     "status": "completed"
    },
    "tags": []
   },
   "outputs": [],
   "source": [
    "# Make copy to avoid changing original data (when imputing)\n",
    "X_train_plus = X_train.copy()\n",
    "X_valid_plus = X_valid.copy()\n",
    "\n",
    "# Make new columns indicating what will be imputed\n",
    "for col in cols_with_missing:\n",
    "    X_train_plus[col + '_was_missing'] = X_train_plus[col].isnull()\n",
    "    X_valid_plus[col + '_was_missing'] = X_valid_plus[col].isnull()\n",
    "\n",
    "# Imputation\n",
    "my_imputer = SimpleImputer(strategy='mean')\n",
    "imputed_X_train_plus = pd.DataFrame(my_imputer.fit_transform(X_train_plus))\n",
    "imputed_X_valid_plus = pd.DataFrame(my_imputer.transform(X_valid_plus))\n",
    "\n",
    "# Imputation removed column names; put them back\n",
    "imputed_X_train_plus.columns = X_train_plus.columns\n",
    "imputed_X_valid_plus.columns = X_valid_plus.columns\n"
   ]
  },
  {
   "cell_type": "code",
   "execution_count": 19,
   "id": "98b99868",
   "metadata": {
    "execution": {
     "iopub.execute_input": "2023-07-17T19:18:17.853891Z",
     "iopub.status.busy": "2023-07-17T19:18:17.853535Z",
     "iopub.status.idle": "2023-07-17T19:18:17.861043Z",
     "shell.execute_reply": "2023-07-17T19:18:17.859861Z"
    },
    "papermill": {
     "duration": 0.024027,
     "end_time": "2023-07-17T19:18:17.863432",
     "exception": false,
     "start_time": "2023-07-17T19:18:17.839405",
     "status": "completed"
    },
    "tags": []
   },
   "outputs": [
    {
     "data": {
      "text/plain": [
       "Index(['Rooms', 'Distance', 'Postcode', 'Bedroom2', 'Bathroom', 'Car',\n",
       "       'Landsize', 'BuildingArea', 'YearBuilt', 'Lattitude', 'Longtitude',\n",
       "       'Propertycount', 'Car_was_missing', 'BuildingArea_was_missing',\n",
       "       'YearBuilt_was_missing'],\n",
       "      dtype='object')"
      ]
     },
     "execution_count": 19,
     "metadata": {},
     "output_type": "execute_result"
    }
   ],
   "source": [
    "imputed_X_train_plus.columns"
   ]
  },
  {
   "cell_type": "code",
   "execution_count": 20,
   "id": "0fbb4b34",
   "metadata": {
    "execution": {
     "iopub.execute_input": "2023-07-17T19:18:17.890480Z",
     "iopub.status.busy": "2023-07-17T19:18:17.890125Z",
     "iopub.status.idle": "2023-07-17T19:18:17.911616Z",
     "shell.execute_reply": "2023-07-17T19:18:17.910356Z"
    },
    "papermill": {
     "duration": 0.037184,
     "end_time": "2023-07-17T19:18:17.913953",
     "exception": false,
     "start_time": "2023-07-17T19:18:17.876769",
     "status": "completed"
    },
    "tags": []
   },
   "outputs": [
    {
     "data": {
      "text/html": [
       "<div>\n",
       "<style scoped>\n",
       "    .dataframe tbody tr th:only-of-type {\n",
       "        vertical-align: middle;\n",
       "    }\n",
       "\n",
       "    .dataframe tbody tr th {\n",
       "        vertical-align: top;\n",
       "    }\n",
       "\n",
       "    .dataframe thead th {\n",
       "        text-align: right;\n",
       "    }\n",
       "</style>\n",
       "<table border=\"1\" class=\"dataframe\">\n",
       "  <thead>\n",
       "    <tr style=\"text-align: right;\">\n",
       "      <th></th>\n",
       "      <th>Car</th>\n",
       "      <th>Car_was_missing</th>\n",
       "      <th>BuildingArea</th>\n",
       "      <th>BuildingArea_was_missing</th>\n",
       "      <th>YearBuilt</th>\n",
       "      <th>YearBuilt_was_missing</th>\n",
       "    </tr>\n",
       "  </thead>\n",
       "  <tbody>\n",
       "    <tr>\n",
       "      <th>0</th>\n",
       "      <td>1.0</td>\n",
       "      <td>0.0</td>\n",
       "      <td>153.764119</td>\n",
       "      <td>1.0</td>\n",
       "      <td>1940.000000</td>\n",
       "      <td>0.0</td>\n",
       "    </tr>\n",
       "    <tr>\n",
       "      <th>1</th>\n",
       "      <td>1.0</td>\n",
       "      <td>0.0</td>\n",
       "      <td>153.764119</td>\n",
       "      <td>1.0</td>\n",
       "      <td>1964.839866</td>\n",
       "      <td>1.0</td>\n",
       "    </tr>\n",
       "    <tr>\n",
       "      <th>2</th>\n",
       "      <td>1.0</td>\n",
       "      <td>0.0</td>\n",
       "      <td>153.764119</td>\n",
       "      <td>1.0</td>\n",
       "      <td>1964.839866</td>\n",
       "      <td>1.0</td>\n",
       "    </tr>\n",
       "    <tr>\n",
       "      <th>3</th>\n",
       "      <td>1.0</td>\n",
       "      <td>0.0</td>\n",
       "      <td>153.764119</td>\n",
       "      <td>1.0</td>\n",
       "      <td>1995.000000</td>\n",
       "      <td>0.0</td>\n",
       "    </tr>\n",
       "    <tr>\n",
       "      <th>4</th>\n",
       "      <td>2.0</td>\n",
       "      <td>0.0</td>\n",
       "      <td>673.000000</td>\n",
       "      <td>0.0</td>\n",
       "      <td>1970.000000</td>\n",
       "      <td>0.0</td>\n",
       "    </tr>\n",
       "    <tr>\n",
       "      <th>...</th>\n",
       "      <td>...</td>\n",
       "      <td>...</td>\n",
       "      <td>...</td>\n",
       "      <td>...</td>\n",
       "      <td>...</td>\n",
       "      <td>...</td>\n",
       "    </tr>\n",
       "    <tr>\n",
       "      <th>10859</th>\n",
       "      <td>2.0</td>\n",
       "      <td>0.0</td>\n",
       "      <td>153.764119</td>\n",
       "      <td>1.0</td>\n",
       "      <td>1964.839866</td>\n",
       "      <td>1.0</td>\n",
       "    </tr>\n",
       "    <tr>\n",
       "      <th>10860</th>\n",
       "      <td>1.0</td>\n",
       "      <td>0.0</td>\n",
       "      <td>101.000000</td>\n",
       "      <td>0.0</td>\n",
       "      <td>1950.000000</td>\n",
       "      <td>0.0</td>\n",
       "    </tr>\n",
       "    <tr>\n",
       "      <th>10861</th>\n",
       "      <td>2.0</td>\n",
       "      <td>0.0</td>\n",
       "      <td>255.000000</td>\n",
       "      <td>0.0</td>\n",
       "      <td>2002.000000</td>\n",
       "      <td>0.0</td>\n",
       "    </tr>\n",
       "    <tr>\n",
       "      <th>10862</th>\n",
       "      <td>1.0</td>\n",
       "      <td>0.0</td>\n",
       "      <td>153.764119</td>\n",
       "      <td>1.0</td>\n",
       "      <td>1964.839866</td>\n",
       "      <td>1.0</td>\n",
       "    </tr>\n",
       "    <tr>\n",
       "      <th>10863</th>\n",
       "      <td>1.0</td>\n",
       "      <td>0.0</td>\n",
       "      <td>130.000000</td>\n",
       "      <td>0.0</td>\n",
       "      <td>1915.000000</td>\n",
       "      <td>0.0</td>\n",
       "    </tr>\n",
       "  </tbody>\n",
       "</table>\n",
       "<p>10864 rows × 6 columns</p>\n",
       "</div>"
      ],
      "text/plain": [
       "       Car  Car_was_missing  BuildingArea  BuildingArea_was_missing  \\\n",
       "0      1.0              0.0    153.764119                       1.0   \n",
       "1      1.0              0.0    153.764119                       1.0   \n",
       "2      1.0              0.0    153.764119                       1.0   \n",
       "3      1.0              0.0    153.764119                       1.0   \n",
       "4      2.0              0.0    673.000000                       0.0   \n",
       "...    ...              ...           ...                       ...   \n",
       "10859  2.0              0.0    153.764119                       1.0   \n",
       "10860  1.0              0.0    101.000000                       0.0   \n",
       "10861  2.0              0.0    255.000000                       0.0   \n",
       "10862  1.0              0.0    153.764119                       1.0   \n",
       "10863  1.0              0.0    130.000000                       0.0   \n",
       "\n",
       "         YearBuilt  YearBuilt_was_missing  \n",
       "0      1940.000000                    0.0  \n",
       "1      1964.839866                    1.0  \n",
       "2      1964.839866                    1.0  \n",
       "3      1995.000000                    0.0  \n",
       "4      1970.000000                    0.0  \n",
       "...            ...                    ...  \n",
       "10859  1964.839866                    1.0  \n",
       "10860  1950.000000                    0.0  \n",
       "10861  2002.000000                    0.0  \n",
       "10862  1964.839866                    1.0  \n",
       "10863  1915.000000                    0.0  \n",
       "\n",
       "[10864 rows x 6 columns]"
      ]
     },
     "execution_count": 20,
     "metadata": {},
     "output_type": "execute_result"
    }
   ],
   "source": [
    "imputed_X_train_plus[['Car','Car_was_missing','BuildingArea','BuildingArea_was_missing','YearBuilt','YearBuilt_was_missing']]"
   ]
  },
  {
   "cell_type": "code",
   "execution_count": 21,
   "id": "238c7573",
   "metadata": {
    "execution": {
     "iopub.execute_input": "2023-07-17T19:18:17.941954Z",
     "iopub.status.busy": "2023-07-17T19:18:17.941221Z",
     "iopub.status.idle": "2023-07-17T19:18:17.977060Z",
     "shell.execute_reply": "2023-07-17T19:18:17.975984Z"
    },
    "papermill": {
     "duration": 0.05234,
     "end_time": "2023-07-17T19:18:17.979599",
     "exception": false,
     "start_time": "2023-07-17T19:18:17.927259",
     "status": "completed"
    },
    "tags": []
   },
   "outputs": [
    {
     "data": {
      "text/html": [
       "<div>\n",
       "<style scoped>\n",
       "    .dataframe tbody tr th:only-of-type {\n",
       "        vertical-align: middle;\n",
       "    }\n",
       "\n",
       "    .dataframe tbody tr th {\n",
       "        vertical-align: top;\n",
       "    }\n",
       "\n",
       "    .dataframe thead th {\n",
       "        text-align: right;\n",
       "    }\n",
       "</style>\n",
       "<table border=\"1\" class=\"dataframe\">\n",
       "  <thead>\n",
       "    <tr style=\"text-align: right;\">\n",
       "      <th></th>\n",
       "      <th>Rooms</th>\n",
       "      <th>Distance</th>\n",
       "      <th>Postcode</th>\n",
       "      <th>Bedroom2</th>\n",
       "      <th>Bathroom</th>\n",
       "      <th>Car</th>\n",
       "      <th>Landsize</th>\n",
       "      <th>BuildingArea</th>\n",
       "      <th>YearBuilt</th>\n",
       "      <th>Lattitude</th>\n",
       "      <th>Longtitude</th>\n",
       "      <th>Propertycount</th>\n",
       "      <th>Car_was_missing</th>\n",
       "      <th>BuildingArea_was_missing</th>\n",
       "      <th>YearBuilt_was_missing</th>\n",
       "    </tr>\n",
       "  </thead>\n",
       "  <tbody>\n",
       "    <tr>\n",
       "      <th>0</th>\n",
       "      <td>4.0</td>\n",
       "      <td>8.0</td>\n",
       "      <td>3016.0</td>\n",
       "      <td>4.0</td>\n",
       "      <td>2.0</td>\n",
       "      <td>2.0</td>\n",
       "      <td>450.0</td>\n",
       "      <td>190.000000</td>\n",
       "      <td>1910.000000</td>\n",
       "      <td>-37.86100</td>\n",
       "      <td>144.89850</td>\n",
       "      <td>6380.0</td>\n",
       "      <td>0.0</td>\n",
       "      <td>0.0</td>\n",
       "      <td>0.0</td>\n",
       "    </tr>\n",
       "    <tr>\n",
       "      <th>1</th>\n",
       "      <td>2.0</td>\n",
       "      <td>6.6</td>\n",
       "      <td>3011.0</td>\n",
       "      <td>2.0</td>\n",
       "      <td>1.0</td>\n",
       "      <td>0.0</td>\n",
       "      <td>172.0</td>\n",
       "      <td>81.000000</td>\n",
       "      <td>1900.000000</td>\n",
       "      <td>-37.81000</td>\n",
       "      <td>144.88960</td>\n",
       "      <td>2417.0</td>\n",
       "      <td>0.0</td>\n",
       "      <td>0.0</td>\n",
       "      <td>0.0</td>\n",
       "    </tr>\n",
       "    <tr>\n",
       "      <th>2</th>\n",
       "      <td>3.0</td>\n",
       "      <td>10.5</td>\n",
       "      <td>3020.0</td>\n",
       "      <td>3.0</td>\n",
       "      <td>1.0</td>\n",
       "      <td>1.0</td>\n",
       "      <td>581.0</td>\n",
       "      <td>153.764119</td>\n",
       "      <td>1964.839866</td>\n",
       "      <td>-37.76740</td>\n",
       "      <td>144.82421</td>\n",
       "      <td>4217.0</td>\n",
       "      <td>0.0</td>\n",
       "      <td>1.0</td>\n",
       "      <td>1.0</td>\n",
       "    </tr>\n",
       "    <tr>\n",
       "      <th>3</th>\n",
       "      <td>3.0</td>\n",
       "      <td>4.5</td>\n",
       "      <td>3181.0</td>\n",
       "      <td>2.0</td>\n",
       "      <td>2.0</td>\n",
       "      <td>1.0</td>\n",
       "      <td>128.0</td>\n",
       "      <td>134.000000</td>\n",
       "      <td>2000.000000</td>\n",
       "      <td>-37.85260</td>\n",
       "      <td>145.00710</td>\n",
       "      <td>7717.0</td>\n",
       "      <td>0.0</td>\n",
       "      <td>0.0</td>\n",
       "      <td>0.0</td>\n",
       "    </tr>\n",
       "    <tr>\n",
       "      <th>4</th>\n",
       "      <td>3.0</td>\n",
       "      <td>8.5</td>\n",
       "      <td>3044.0</td>\n",
       "      <td>3.0</td>\n",
       "      <td>2.0</td>\n",
       "      <td>2.0</td>\n",
       "      <td>480.0</td>\n",
       "      <td>153.764119</td>\n",
       "      <td>1964.839866</td>\n",
       "      <td>-37.72523</td>\n",
       "      <td>144.94567</td>\n",
       "      <td>7485.0</td>\n",
       "      <td>0.0</td>\n",
       "      <td>1.0</td>\n",
       "      <td>1.0</td>\n",
       "    </tr>\n",
       "    <tr>\n",
       "      <th>...</th>\n",
       "      <td>...</td>\n",
       "      <td>...</td>\n",
       "      <td>...</td>\n",
       "      <td>...</td>\n",
       "      <td>...</td>\n",
       "      <td>...</td>\n",
       "      <td>...</td>\n",
       "      <td>...</td>\n",
       "      <td>...</td>\n",
       "      <td>...</td>\n",
       "      <td>...</td>\n",
       "      <td>...</td>\n",
       "      <td>...</td>\n",
       "      <td>...</td>\n",
       "      <td>...</td>\n",
       "    </tr>\n",
       "    <tr>\n",
       "      <th>2711</th>\n",
       "      <td>2.0</td>\n",
       "      <td>6.4</td>\n",
       "      <td>3011.0</td>\n",
       "      <td>2.0</td>\n",
       "      <td>1.0</td>\n",
       "      <td>1.0</td>\n",
       "      <td>47.0</td>\n",
       "      <td>35.000000</td>\n",
       "      <td>2013.000000</td>\n",
       "      <td>-37.80140</td>\n",
       "      <td>144.89590</td>\n",
       "      <td>7570.0</td>\n",
       "      <td>0.0</td>\n",
       "      <td>0.0</td>\n",
       "      <td>0.0</td>\n",
       "    </tr>\n",
       "    <tr>\n",
       "      <th>2712</th>\n",
       "      <td>4.0</td>\n",
       "      <td>8.0</td>\n",
       "      <td>3016.0</td>\n",
       "      <td>4.0</td>\n",
       "      <td>2.0</td>\n",
       "      <td>4.0</td>\n",
       "      <td>551.0</td>\n",
       "      <td>153.764119</td>\n",
       "      <td>1964.839866</td>\n",
       "      <td>-37.85790</td>\n",
       "      <td>144.87860</td>\n",
       "      <td>6380.0</td>\n",
       "      <td>0.0</td>\n",
       "      <td>1.0</td>\n",
       "      <td>1.0</td>\n",
       "    </tr>\n",
       "    <tr>\n",
       "      <th>2713</th>\n",
       "      <td>3.0</td>\n",
       "      <td>10.8</td>\n",
       "      <td>3105.0</td>\n",
       "      <td>3.0</td>\n",
       "      <td>1.0</td>\n",
       "      <td>1.0</td>\n",
       "      <td>757.0</td>\n",
       "      <td>153.764119</td>\n",
       "      <td>1964.839866</td>\n",
       "      <td>-37.78094</td>\n",
       "      <td>145.10131</td>\n",
       "      <td>4480.0</td>\n",
       "      <td>0.0</td>\n",
       "      <td>1.0</td>\n",
       "      <td>1.0</td>\n",
       "    </tr>\n",
       "    <tr>\n",
       "      <th>2714</th>\n",
       "      <td>4.0</td>\n",
       "      <td>6.2</td>\n",
       "      <td>3039.0</td>\n",
       "      <td>4.0</td>\n",
       "      <td>1.0</td>\n",
       "      <td>3.0</td>\n",
       "      <td>478.0</td>\n",
       "      <td>152.000000</td>\n",
       "      <td>1925.000000</td>\n",
       "      <td>-37.76421</td>\n",
       "      <td>144.90571</td>\n",
       "      <td>6232.0</td>\n",
       "      <td>0.0</td>\n",
       "      <td>0.0</td>\n",
       "      <td>0.0</td>\n",
       "    </tr>\n",
       "    <tr>\n",
       "      <th>2715</th>\n",
       "      <td>2.0</td>\n",
       "      <td>1.6</td>\n",
       "      <td>3066.0</td>\n",
       "      <td>2.0</td>\n",
       "      <td>1.0</td>\n",
       "      <td>2.0</td>\n",
       "      <td>159.0</td>\n",
       "      <td>86.000000</td>\n",
       "      <td>1880.000000</td>\n",
       "      <td>-37.79620</td>\n",
       "      <td>144.98870</td>\n",
       "      <td>4553.0</td>\n",
       "      <td>0.0</td>\n",
       "      <td>0.0</td>\n",
       "      <td>0.0</td>\n",
       "    </tr>\n",
       "  </tbody>\n",
       "</table>\n",
       "<p>2716 rows × 15 columns</p>\n",
       "</div>"
      ],
      "text/plain": [
       "      Rooms  Distance  Postcode  Bedroom2  Bathroom  Car  Landsize  \\\n",
       "0       4.0       8.0    3016.0       4.0       2.0  2.0     450.0   \n",
       "1       2.0       6.6    3011.0       2.0       1.0  0.0     172.0   \n",
       "2       3.0      10.5    3020.0       3.0       1.0  1.0     581.0   \n",
       "3       3.0       4.5    3181.0       2.0       2.0  1.0     128.0   \n",
       "4       3.0       8.5    3044.0       3.0       2.0  2.0     480.0   \n",
       "...     ...       ...       ...       ...       ...  ...       ...   \n",
       "2711    2.0       6.4    3011.0       2.0       1.0  1.0      47.0   \n",
       "2712    4.0       8.0    3016.0       4.0       2.0  4.0     551.0   \n",
       "2713    3.0      10.8    3105.0       3.0       1.0  1.0     757.0   \n",
       "2714    4.0       6.2    3039.0       4.0       1.0  3.0     478.0   \n",
       "2715    2.0       1.6    3066.0       2.0       1.0  2.0     159.0   \n",
       "\n",
       "      BuildingArea    YearBuilt  Lattitude  Longtitude  Propertycount  \\\n",
       "0       190.000000  1910.000000  -37.86100   144.89850         6380.0   \n",
       "1        81.000000  1900.000000  -37.81000   144.88960         2417.0   \n",
       "2       153.764119  1964.839866  -37.76740   144.82421         4217.0   \n",
       "3       134.000000  2000.000000  -37.85260   145.00710         7717.0   \n",
       "4       153.764119  1964.839866  -37.72523   144.94567         7485.0   \n",
       "...            ...          ...        ...         ...            ...   \n",
       "2711     35.000000  2013.000000  -37.80140   144.89590         7570.0   \n",
       "2712    153.764119  1964.839866  -37.85790   144.87860         6380.0   \n",
       "2713    153.764119  1964.839866  -37.78094   145.10131         4480.0   \n",
       "2714    152.000000  1925.000000  -37.76421   144.90571         6232.0   \n",
       "2715     86.000000  1880.000000  -37.79620   144.98870         4553.0   \n",
       "\n",
       "      Car_was_missing  BuildingArea_was_missing  YearBuilt_was_missing  \n",
       "0                 0.0                       0.0                    0.0  \n",
       "1                 0.0                       0.0                    0.0  \n",
       "2                 0.0                       1.0                    1.0  \n",
       "3                 0.0                       0.0                    0.0  \n",
       "4                 0.0                       1.0                    1.0  \n",
       "...               ...                       ...                    ...  \n",
       "2711              0.0                       0.0                    0.0  \n",
       "2712              0.0                       1.0                    1.0  \n",
       "2713              0.0                       1.0                    1.0  \n",
       "2714              0.0                       0.0                    0.0  \n",
       "2715              0.0                       0.0                    0.0  \n",
       "\n",
       "[2716 rows x 15 columns]"
      ]
     },
     "execution_count": 21,
     "metadata": {},
     "output_type": "execute_result"
    }
   ],
   "source": [
    "imputed_X_valid_plus"
   ]
  },
  {
   "cell_type": "code",
   "execution_count": 22,
   "id": "5c42656a",
   "metadata": {
    "execution": {
     "iopub.execute_input": "2023-07-17T19:18:18.009519Z",
     "iopub.status.busy": "2023-07-17T19:18:18.009087Z",
     "iopub.status.idle": "2023-07-17T19:18:18.657967Z",
     "shell.execute_reply": "2023-07-17T19:18:18.656818Z"
    },
    "papermill": {
     "duration": 0.667125,
     "end_time": "2023-07-17T19:18:18.660709",
     "exception": false,
     "start_time": "2023-07-17T19:18:17.993584",
     "status": "completed"
    },
    "tags": []
   },
   "outputs": [
    {
     "name": "stdout",
     "output_type": "stream",
     "text": [
      "MAE from Approach 3 (An Extension to Imputation):\n",
      "178927.503183954\n"
     ]
    }
   ],
   "source": [
    "print(\"MAE from Approach 3 (An Extension to Imputation):\")\n",
    "print(score_dataset(imputed_X_train_plus, imputed_X_valid_plus, y_train, y_valid))"
   ]
  },
  {
   "cell_type": "markdown",
   "id": "b6473259",
   "metadata": {
    "papermill": {
     "duration": 0.013711,
     "end_time": "2023-07-17T19:18:18.688796",
     "exception": false,
     "start_time": "2023-07-17T19:18:18.675085",
     "status": "completed"
    },
    "tags": []
   },
   "source": [
    "We can expect that dropping columns is unlikely to yield good results. This is because we'd be throwing away a lot of valuable data, and so imputation will likely perform better."
   ]
  },
  {
   "cell_type": "markdown",
   "id": "b6ae8612",
   "metadata": {
    "papermill": {
     "duration": 0.014127,
     "end_time": "2023-07-17T19:18:18.717700",
     "exception": false,
     "start_time": "2023-07-17T19:18:18.703573",
     "status": "completed"
    },
    "tags": []
   },
   "source": [
    "Must to be carefull when use imputation, because it can probably partially be attributed to noise in the dataset or the imputation method is not a great match to this dataset."
   ]
  },
  {
   "cell_type": "code",
   "execution_count": 23,
   "id": "db7b0b2b",
   "metadata": {
    "execution": {
     "iopub.execute_input": "2023-07-17T19:18:18.748267Z",
     "iopub.status.busy": "2023-07-17T19:18:18.747896Z",
     "iopub.status.idle": "2023-07-17T19:18:18.757567Z",
     "shell.execute_reply": "2023-07-17T19:18:18.756748Z"
    },
    "papermill": {
     "duration": 0.027657,
     "end_time": "2023-07-17T19:18:18.759698",
     "exception": false,
     "start_time": "2023-07-17T19:18:18.732041",
     "status": "completed"
    },
    "tags": []
   },
   "outputs": [
    {
     "data": {
      "text/plain": [
       "Rooms               0\n",
       "Distance            0\n",
       "Postcode            0\n",
       "Bedroom2            0\n",
       "Bathroom            0\n",
       "Car                49\n",
       "Landsize            0\n",
       "BuildingArea     5156\n",
       "YearBuilt        4307\n",
       "Lattitude           0\n",
       "Longtitude          0\n",
       "Propertycount       0\n",
       "dtype: int64"
      ]
     },
     "execution_count": 23,
     "metadata": {},
     "output_type": "execute_result"
    }
   ],
   "source": [
    "X_train.isnull().sum()"
   ]
  },
  {
   "cell_type": "markdown",
   "id": "b2e5c2ec",
   "metadata": {
    "papermill": {
     "duration": 0.013941,
     "end_time": "2023-07-17T19:18:18.787604",
     "exception": false,
     "start_time": "2023-07-17T19:18:18.773663",
     "status": "completed"
    },
    "tags": []
   },
   "source": [
    "Execute with best approach"
   ]
  },
  {
   "cell_type": "code",
   "execution_count": 24,
   "id": "812051ad",
   "metadata": {
    "execution": {
     "iopub.execute_input": "2023-07-17T19:18:18.817876Z",
     "iopub.status.busy": "2023-07-17T19:18:18.817095Z",
     "iopub.status.idle": "2023-07-17T19:18:18.879948Z",
     "shell.execute_reply": "2023-07-17T19:18:18.878785Z"
    },
    "papermill": {
     "duration": 0.080885,
     "end_time": "2023-07-17T19:18:18.882646",
     "exception": false,
     "start_time": "2023-07-17T19:18:18.801761",
     "status": "completed"
    },
    "tags": []
   },
   "outputs": [],
   "source": [
    "X_full = pd.read_csv('../input/melbourne-housing-snapshot/melb_data.csv')"
   ]
  },
  {
   "cell_type": "code",
   "execution_count": 25,
   "id": "4d6cd438",
   "metadata": {
    "execution": {
     "iopub.execute_input": "2023-07-17T19:18:18.913138Z",
     "iopub.status.busy": "2023-07-17T19:18:18.912400Z",
     "iopub.status.idle": "2023-07-17T19:18:18.968905Z",
     "shell.execute_reply": "2023-07-17T19:18:18.968067Z"
    },
    "papermill": {
     "duration": 0.074432,
     "end_time": "2023-07-17T19:18:18.971230",
     "exception": false,
     "start_time": "2023-07-17T19:18:18.896798",
     "status": "completed"
    },
    "tags": []
   },
   "outputs": [
    {
     "data": {
      "text/html": [
       "<div>\n",
       "<style scoped>\n",
       "    .dataframe tbody tr th:only-of-type {\n",
       "        vertical-align: middle;\n",
       "    }\n",
       "\n",
       "    .dataframe tbody tr th {\n",
       "        vertical-align: top;\n",
       "    }\n",
       "\n",
       "    .dataframe thead th {\n",
       "        text-align: right;\n",
       "    }\n",
       "</style>\n",
       "<table border=\"1\" class=\"dataframe\">\n",
       "  <thead>\n",
       "    <tr style=\"text-align: right;\">\n",
       "      <th></th>\n",
       "      <th>Suburb</th>\n",
       "      <th>Address</th>\n",
       "      <th>Rooms</th>\n",
       "      <th>Type</th>\n",
       "      <th>Price</th>\n",
       "      <th>Method</th>\n",
       "      <th>SellerG</th>\n",
       "      <th>Date</th>\n",
       "      <th>Distance</th>\n",
       "      <th>Postcode</th>\n",
       "      <th>...</th>\n",
       "      <th>Bathroom</th>\n",
       "      <th>Car</th>\n",
       "      <th>Landsize</th>\n",
       "      <th>BuildingArea</th>\n",
       "      <th>YearBuilt</th>\n",
       "      <th>CouncilArea</th>\n",
       "      <th>Lattitude</th>\n",
       "      <th>Longtitude</th>\n",
       "      <th>Regionname</th>\n",
       "      <th>Propertycount</th>\n",
       "    </tr>\n",
       "  </thead>\n",
       "  <tbody>\n",
       "    <tr>\n",
       "      <th>0</th>\n",
       "      <td>Abbotsford</td>\n",
       "      <td>85 Turner St</td>\n",
       "      <td>2</td>\n",
       "      <td>h</td>\n",
       "      <td>1480000.0</td>\n",
       "      <td>S</td>\n",
       "      <td>Biggin</td>\n",
       "      <td>3/12/2016</td>\n",
       "      <td>2.5</td>\n",
       "      <td>3067.0</td>\n",
       "      <td>...</td>\n",
       "      <td>1.0</td>\n",
       "      <td>1.0</td>\n",
       "      <td>202.0</td>\n",
       "      <td>NaN</td>\n",
       "      <td>NaN</td>\n",
       "      <td>Yarra</td>\n",
       "      <td>-37.79960</td>\n",
       "      <td>144.99840</td>\n",
       "      <td>Northern Metropolitan</td>\n",
       "      <td>4019.0</td>\n",
       "    </tr>\n",
       "    <tr>\n",
       "      <th>1</th>\n",
       "      <td>Abbotsford</td>\n",
       "      <td>25 Bloomburg St</td>\n",
       "      <td>2</td>\n",
       "      <td>h</td>\n",
       "      <td>1035000.0</td>\n",
       "      <td>S</td>\n",
       "      <td>Biggin</td>\n",
       "      <td>4/02/2016</td>\n",
       "      <td>2.5</td>\n",
       "      <td>3067.0</td>\n",
       "      <td>...</td>\n",
       "      <td>1.0</td>\n",
       "      <td>0.0</td>\n",
       "      <td>156.0</td>\n",
       "      <td>79.0</td>\n",
       "      <td>1900.0</td>\n",
       "      <td>Yarra</td>\n",
       "      <td>-37.80790</td>\n",
       "      <td>144.99340</td>\n",
       "      <td>Northern Metropolitan</td>\n",
       "      <td>4019.0</td>\n",
       "    </tr>\n",
       "    <tr>\n",
       "      <th>2</th>\n",
       "      <td>Abbotsford</td>\n",
       "      <td>5 Charles St</td>\n",
       "      <td>3</td>\n",
       "      <td>h</td>\n",
       "      <td>1465000.0</td>\n",
       "      <td>SP</td>\n",
       "      <td>Biggin</td>\n",
       "      <td>4/03/2017</td>\n",
       "      <td>2.5</td>\n",
       "      <td>3067.0</td>\n",
       "      <td>...</td>\n",
       "      <td>2.0</td>\n",
       "      <td>0.0</td>\n",
       "      <td>134.0</td>\n",
       "      <td>150.0</td>\n",
       "      <td>1900.0</td>\n",
       "      <td>Yarra</td>\n",
       "      <td>-37.80930</td>\n",
       "      <td>144.99440</td>\n",
       "      <td>Northern Metropolitan</td>\n",
       "      <td>4019.0</td>\n",
       "    </tr>\n",
       "    <tr>\n",
       "      <th>3</th>\n",
       "      <td>Abbotsford</td>\n",
       "      <td>40 Federation La</td>\n",
       "      <td>3</td>\n",
       "      <td>h</td>\n",
       "      <td>850000.0</td>\n",
       "      <td>PI</td>\n",
       "      <td>Biggin</td>\n",
       "      <td>4/03/2017</td>\n",
       "      <td>2.5</td>\n",
       "      <td>3067.0</td>\n",
       "      <td>...</td>\n",
       "      <td>2.0</td>\n",
       "      <td>1.0</td>\n",
       "      <td>94.0</td>\n",
       "      <td>NaN</td>\n",
       "      <td>NaN</td>\n",
       "      <td>Yarra</td>\n",
       "      <td>-37.79690</td>\n",
       "      <td>144.99690</td>\n",
       "      <td>Northern Metropolitan</td>\n",
       "      <td>4019.0</td>\n",
       "    </tr>\n",
       "    <tr>\n",
       "      <th>4</th>\n",
       "      <td>Abbotsford</td>\n",
       "      <td>55a Park St</td>\n",
       "      <td>4</td>\n",
       "      <td>h</td>\n",
       "      <td>1600000.0</td>\n",
       "      <td>VB</td>\n",
       "      <td>Nelson</td>\n",
       "      <td>4/06/2016</td>\n",
       "      <td>2.5</td>\n",
       "      <td>3067.0</td>\n",
       "      <td>...</td>\n",
       "      <td>1.0</td>\n",
       "      <td>2.0</td>\n",
       "      <td>120.0</td>\n",
       "      <td>142.0</td>\n",
       "      <td>2014.0</td>\n",
       "      <td>Yarra</td>\n",
       "      <td>-37.80720</td>\n",
       "      <td>144.99410</td>\n",
       "      <td>Northern Metropolitan</td>\n",
       "      <td>4019.0</td>\n",
       "    </tr>\n",
       "    <tr>\n",
       "      <th>...</th>\n",
       "      <td>...</td>\n",
       "      <td>...</td>\n",
       "      <td>...</td>\n",
       "      <td>...</td>\n",
       "      <td>...</td>\n",
       "      <td>...</td>\n",
       "      <td>...</td>\n",
       "      <td>...</td>\n",
       "      <td>...</td>\n",
       "      <td>...</td>\n",
       "      <td>...</td>\n",
       "      <td>...</td>\n",
       "      <td>...</td>\n",
       "      <td>...</td>\n",
       "      <td>...</td>\n",
       "      <td>...</td>\n",
       "      <td>...</td>\n",
       "      <td>...</td>\n",
       "      <td>...</td>\n",
       "      <td>...</td>\n",
       "      <td>...</td>\n",
       "    </tr>\n",
       "    <tr>\n",
       "      <th>13575</th>\n",
       "      <td>Wheelers Hill</td>\n",
       "      <td>12 Strada Cr</td>\n",
       "      <td>4</td>\n",
       "      <td>h</td>\n",
       "      <td>1245000.0</td>\n",
       "      <td>S</td>\n",
       "      <td>Barry</td>\n",
       "      <td>26/08/2017</td>\n",
       "      <td>16.7</td>\n",
       "      <td>3150.0</td>\n",
       "      <td>...</td>\n",
       "      <td>2.0</td>\n",
       "      <td>2.0</td>\n",
       "      <td>652.0</td>\n",
       "      <td>NaN</td>\n",
       "      <td>1981.0</td>\n",
       "      <td>NaN</td>\n",
       "      <td>-37.90562</td>\n",
       "      <td>145.16761</td>\n",
       "      <td>South-Eastern Metropolitan</td>\n",
       "      <td>7392.0</td>\n",
       "    </tr>\n",
       "    <tr>\n",
       "      <th>13576</th>\n",
       "      <td>Williamstown</td>\n",
       "      <td>77 Merrett Dr</td>\n",
       "      <td>3</td>\n",
       "      <td>h</td>\n",
       "      <td>1031000.0</td>\n",
       "      <td>SP</td>\n",
       "      <td>Williams</td>\n",
       "      <td>26/08/2017</td>\n",
       "      <td>6.8</td>\n",
       "      <td>3016.0</td>\n",
       "      <td>...</td>\n",
       "      <td>2.0</td>\n",
       "      <td>2.0</td>\n",
       "      <td>333.0</td>\n",
       "      <td>133.0</td>\n",
       "      <td>1995.0</td>\n",
       "      <td>NaN</td>\n",
       "      <td>-37.85927</td>\n",
       "      <td>144.87904</td>\n",
       "      <td>Western Metropolitan</td>\n",
       "      <td>6380.0</td>\n",
       "    </tr>\n",
       "    <tr>\n",
       "      <th>13577</th>\n",
       "      <td>Williamstown</td>\n",
       "      <td>83 Power St</td>\n",
       "      <td>3</td>\n",
       "      <td>h</td>\n",
       "      <td>1170000.0</td>\n",
       "      <td>S</td>\n",
       "      <td>Raine</td>\n",
       "      <td>26/08/2017</td>\n",
       "      <td>6.8</td>\n",
       "      <td>3016.0</td>\n",
       "      <td>...</td>\n",
       "      <td>2.0</td>\n",
       "      <td>4.0</td>\n",
       "      <td>436.0</td>\n",
       "      <td>NaN</td>\n",
       "      <td>1997.0</td>\n",
       "      <td>NaN</td>\n",
       "      <td>-37.85274</td>\n",
       "      <td>144.88738</td>\n",
       "      <td>Western Metropolitan</td>\n",
       "      <td>6380.0</td>\n",
       "    </tr>\n",
       "    <tr>\n",
       "      <th>13578</th>\n",
       "      <td>Williamstown</td>\n",
       "      <td>96 Verdon St</td>\n",
       "      <td>4</td>\n",
       "      <td>h</td>\n",
       "      <td>2500000.0</td>\n",
       "      <td>PI</td>\n",
       "      <td>Sweeney</td>\n",
       "      <td>26/08/2017</td>\n",
       "      <td>6.8</td>\n",
       "      <td>3016.0</td>\n",
       "      <td>...</td>\n",
       "      <td>1.0</td>\n",
       "      <td>5.0</td>\n",
       "      <td>866.0</td>\n",
       "      <td>157.0</td>\n",
       "      <td>1920.0</td>\n",
       "      <td>NaN</td>\n",
       "      <td>-37.85908</td>\n",
       "      <td>144.89299</td>\n",
       "      <td>Western Metropolitan</td>\n",
       "      <td>6380.0</td>\n",
       "    </tr>\n",
       "    <tr>\n",
       "      <th>13579</th>\n",
       "      <td>Yarraville</td>\n",
       "      <td>6 Agnes St</td>\n",
       "      <td>4</td>\n",
       "      <td>h</td>\n",
       "      <td>1285000.0</td>\n",
       "      <td>SP</td>\n",
       "      <td>Village</td>\n",
       "      <td>26/08/2017</td>\n",
       "      <td>6.3</td>\n",
       "      <td>3013.0</td>\n",
       "      <td>...</td>\n",
       "      <td>1.0</td>\n",
       "      <td>1.0</td>\n",
       "      <td>362.0</td>\n",
       "      <td>112.0</td>\n",
       "      <td>1920.0</td>\n",
       "      <td>NaN</td>\n",
       "      <td>-37.81188</td>\n",
       "      <td>144.88449</td>\n",
       "      <td>Western Metropolitan</td>\n",
       "      <td>6543.0</td>\n",
       "    </tr>\n",
       "  </tbody>\n",
       "</table>\n",
       "<p>13580 rows × 21 columns</p>\n",
       "</div>"
      ],
      "text/plain": [
       "              Suburb           Address  Rooms Type      Price Method  \\\n",
       "0         Abbotsford      85 Turner St      2    h  1480000.0      S   \n",
       "1         Abbotsford   25 Bloomburg St      2    h  1035000.0      S   \n",
       "2         Abbotsford      5 Charles St      3    h  1465000.0     SP   \n",
       "3         Abbotsford  40 Federation La      3    h   850000.0     PI   \n",
       "4         Abbotsford       55a Park St      4    h  1600000.0     VB   \n",
       "...              ...               ...    ...  ...        ...    ...   \n",
       "13575  Wheelers Hill      12 Strada Cr      4    h  1245000.0      S   \n",
       "13576   Williamstown     77 Merrett Dr      3    h  1031000.0     SP   \n",
       "13577   Williamstown       83 Power St      3    h  1170000.0      S   \n",
       "13578   Williamstown      96 Verdon St      4    h  2500000.0     PI   \n",
       "13579     Yarraville        6 Agnes St      4    h  1285000.0     SP   \n",
       "\n",
       "        SellerG        Date  Distance  Postcode  ...  Bathroom  Car  Landsize  \\\n",
       "0        Biggin   3/12/2016       2.5    3067.0  ...       1.0  1.0     202.0   \n",
       "1        Biggin   4/02/2016       2.5    3067.0  ...       1.0  0.0     156.0   \n",
       "2        Biggin   4/03/2017       2.5    3067.0  ...       2.0  0.0     134.0   \n",
       "3        Biggin   4/03/2017       2.5    3067.0  ...       2.0  1.0      94.0   \n",
       "4        Nelson   4/06/2016       2.5    3067.0  ...       1.0  2.0     120.0   \n",
       "...         ...         ...       ...       ...  ...       ...  ...       ...   \n",
       "13575     Barry  26/08/2017      16.7    3150.0  ...       2.0  2.0     652.0   \n",
       "13576  Williams  26/08/2017       6.8    3016.0  ...       2.0  2.0     333.0   \n",
       "13577     Raine  26/08/2017       6.8    3016.0  ...       2.0  4.0     436.0   \n",
       "13578   Sweeney  26/08/2017       6.8    3016.0  ...       1.0  5.0     866.0   \n",
       "13579   Village  26/08/2017       6.3    3013.0  ...       1.0  1.0     362.0   \n",
       "\n",
       "       BuildingArea  YearBuilt  CouncilArea Lattitude  Longtitude  \\\n",
       "0               NaN        NaN        Yarra -37.79960   144.99840   \n",
       "1              79.0     1900.0        Yarra -37.80790   144.99340   \n",
       "2             150.0     1900.0        Yarra -37.80930   144.99440   \n",
       "3               NaN        NaN        Yarra -37.79690   144.99690   \n",
       "4             142.0     2014.0        Yarra -37.80720   144.99410   \n",
       "...             ...        ...          ...       ...         ...   \n",
       "13575           NaN     1981.0          NaN -37.90562   145.16761   \n",
       "13576         133.0     1995.0          NaN -37.85927   144.87904   \n",
       "13577           NaN     1997.0          NaN -37.85274   144.88738   \n",
       "13578         157.0     1920.0          NaN -37.85908   144.89299   \n",
       "13579         112.0     1920.0          NaN -37.81188   144.88449   \n",
       "\n",
       "                       Regionname Propertycount  \n",
       "0           Northern Metropolitan        4019.0  \n",
       "1           Northern Metropolitan        4019.0  \n",
       "2           Northern Metropolitan        4019.0  \n",
       "3           Northern Metropolitan        4019.0  \n",
       "4           Northern Metropolitan        4019.0  \n",
       "...                           ...           ...  \n",
       "13575  South-Eastern Metropolitan        7392.0  \n",
       "13576        Western Metropolitan        6380.0  \n",
       "13577        Western Metropolitan        6380.0  \n",
       "13578        Western Metropolitan        6380.0  \n",
       "13579        Western Metropolitan        6543.0  \n",
       "\n",
       "[13580 rows x 21 columns]"
      ]
     },
     "execution_count": 25,
     "metadata": {},
     "output_type": "execute_result"
    }
   ],
   "source": [
    "X_full"
   ]
  },
  {
   "cell_type": "code",
   "execution_count": null,
   "id": "db056ee5",
   "metadata": {
    "papermill": {
     "duration": 0.015497,
     "end_time": "2023-07-17T19:18:19.002508",
     "exception": false,
     "start_time": "2023-07-17T19:18:18.987011",
     "status": "completed"
    },
    "tags": []
   },
   "outputs": [],
   "source": []
  }
 ],
 "metadata": {
  "kernelspec": {
   "display_name": "Python 3",
   "language": "python",
   "name": "python3"
  },
  "language_info": {
   "codemirror_mode": {
    "name": "ipython",
    "version": 3
   },
   "file_extension": ".py",
   "mimetype": "text/x-python",
   "name": "python",
   "nbconvert_exporter": "python",
   "pygments_lexer": "ipython3",
   "version": "3.7.12"
  },
  "papermill": {
   "default_parameters": {},
   "duration": 15.348556,
   "end_time": "2023-07-17T19:18:19.639593",
   "environment_variables": {},
   "exception": null,
   "input_path": "__notebook__.ipynb",
   "output_path": "__notebook__.ipynb",
   "parameters": {},
   "start_time": "2023-07-17T19:18:04.291037",
   "version": "2.3.4"
  }
 },
 "nbformat": 4,
 "nbformat_minor": 5
}
