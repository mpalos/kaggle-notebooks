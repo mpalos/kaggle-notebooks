{
 "cells": [
  {
   "cell_type": "markdown",
   "id": "driven-terrorism",
   "metadata": {
    "papermill": {
     "duration": 0.019883,
     "end_time": "2024-04-19T00:14:14.188200",
     "exception": false,
     "start_time": "2024-04-19T00:14:14.168317",
     "status": "completed"
    },
    "tags": []
   },
   "source": [
    "This notebook is a summary of ML courses.\n",
    "https://www.kaggle.com/learn/intro-to-machine-learning"
   ]
  },
  {
   "cell_type": "code",
   "execution_count": 1,
   "id": "second-calculator",
   "metadata": {
    "_cell_guid": "b1076dfc-b9ad-4769-8c92-a6c4dae69d19",
    "_uuid": "8f2839f25d086af736a60e9eeb907d3b93b6e0e5",
    "execution": {
     "iopub.execute_input": "2024-04-19T00:14:14.240158Z",
     "iopub.status.busy": "2024-04-19T00:14:14.239257Z",
     "iopub.status.idle": "2024-04-19T00:14:14.249584Z",
     "shell.execute_reply": "2024-04-19T00:14:14.250285Z",
     "shell.execute_reply.started": "2024-04-19T00:02:02.572904Z"
    },
    "papermill": {
     "duration": 0.043764,
     "end_time": "2024-04-19T00:14:14.250681",
     "exception": false,
     "start_time": "2024-04-19T00:14:14.206917",
     "status": "completed"
    },
    "tags": []
   },
   "outputs": [
    {
     "name": "stdout",
     "output_type": "stream",
     "text": [
      "/kaggle/input/melbourne-housing-snapshot/melb_data.csv\n"
     ]
    }
   ],
   "source": [
    "# This Python 3 environment comes with many helpful analytics libraries installed\n",
    "# It is defined by the kaggle/python Docker image: https://github.com/kaggle/docker-python\n",
    "# For example, here's several helpful packages to load\n",
    "\n",
    "import numpy as np # linear algebra\n",
    "import pandas as pd # data processing, CSV file I/O (e.g. pd.read_csv)\n",
    "\n",
    "# Input data files are available in the read-only \"../input/\" directory\n",
    "# For example, running this (by clicking run or pressing Shift+Enter) will list all files under the input directory\n",
    "\n",
    "import os\n",
    "for dirname, _, filenames in os.walk('/kaggle/input'):\n",
    "    for filename in filenames:\n",
    "        print(os.path.join(dirname, filename))\n",
    "\n",
    "# You can write up to 20GB to the current directory (/kaggle/working/) that gets preserved as output when you create a version using \"Save & Run All\" \n",
    "# You can also write temporary files to /kaggle/temp/, but they won't be saved outside of the current session"
   ]
  },
  {
   "cell_type": "markdown",
   "id": "motivated-blake",
   "metadata": {
    "papermill": {
     "duration": 0.018188,
     "end_time": "2024-04-19T00:14:14.287953",
     "exception": false,
     "start_time": "2024-04-19T00:14:14.269765",
     "status": "completed"
    },
    "tags": []
   },
   "source": [
    "some convensions:\n",
    "* the prediction target is called y\n",
    "* the features set is called X"
   ]
  },
  {
   "cell_type": "markdown",
   "id": "thousand-latin",
   "metadata": {
    "papermill": {
     "duration": 0.018157,
     "end_time": "2024-04-19T00:14:14.324579",
     "exception": false,
     "start_time": "2024-04-19T00:14:14.306422",
     "status": "completed"
    },
    "tags": []
   },
   "source": [
    "# 1. ML model building"
   ]
  },
  {
   "cell_type": "code",
   "execution_count": 2,
   "id": "solid-peoples",
   "metadata": {
    "execution": {
     "iopub.execute_input": "2024-04-19T00:14:14.365640Z",
     "iopub.status.busy": "2024-04-19T00:14:14.364865Z",
     "iopub.status.idle": "2024-04-19T00:14:14.535902Z",
     "shell.execute_reply": "2024-04-19T00:14:14.536474Z",
     "shell.execute_reply.started": "2024-04-19T00:02:02.594009Z"
    },
    "papermill": {
     "duration": 0.193681,
     "end_time": "2024-04-19T00:14:14.536774",
     "exception": false,
     "start_time": "2024-04-19T00:14:14.343093",
     "status": "completed"
    },
    "tags": []
   },
   "outputs": [
    {
     "data": {
      "text/plain": [
       "Index(['Suburb', 'Address', 'Rooms', 'Type', 'Price', 'Method', 'SellerG',\n",
       "       'Date', 'Distance', 'Postcode', 'Bedroom2', 'Bathroom', 'Car',\n",
       "       'Landsize', 'BuildingArea', 'YearBuilt', 'CouncilArea', 'Lattitude',\n",
       "       'Longtitude', 'Regionname', 'Propertycount'],\n",
       "      dtype='object')"
      ]
     },
     "execution_count": 2,
     "metadata": {},
     "output_type": "execute_result"
    }
   ],
   "source": [
    "#step: get the dataset and clean 'na' values\n",
    "melbourne_file_path = '../input/melbourne-housing-snapshot/melb_data.csv'\n",
    "melbourne_data = pd.read_csv(melbourne_file_path)\n",
    "melbourne_data = melbourne_data.dropna(axis=0)\n",
    "melbourne_data.columns"
   ]
  },
  {
   "cell_type": "code",
   "execution_count": 3,
   "id": "continuous-delhi",
   "metadata": {
    "execution": {
     "iopub.execute_input": "2024-04-19T00:14:14.586525Z",
     "iopub.status.busy": "2024-04-19T00:14:14.585590Z",
     "iopub.status.idle": "2024-04-19T00:14:14.611564Z",
     "shell.execute_reply": "2024-04-19T00:14:14.610750Z",
     "shell.execute_reply.started": "2024-04-19T00:02:02.744842Z"
    },
    "papermill": {
     "duration": 0.055601,
     "end_time": "2024-04-19T00:14:14.611769",
     "exception": false,
     "start_time": "2024-04-19T00:14:14.556168",
     "status": "completed"
    },
    "tags": []
   },
   "outputs": [
    {
     "data": {
      "text/html": [
       "<div>\n",
       "<style scoped>\n",
       "    .dataframe tbody tr th:only-of-type {\n",
       "        vertical-align: middle;\n",
       "    }\n",
       "\n",
       "    .dataframe tbody tr th {\n",
       "        vertical-align: top;\n",
       "    }\n",
       "\n",
       "    .dataframe thead th {\n",
       "        text-align: right;\n",
       "    }\n",
       "</style>\n",
       "<table border=\"1\" class=\"dataframe\">\n",
       "  <thead>\n",
       "    <tr style=\"text-align: right;\">\n",
       "      <th></th>\n",
       "      <th>Rooms</th>\n",
       "      <th>Bathroom</th>\n",
       "      <th>Landsize</th>\n",
       "      <th>Lattitude</th>\n",
       "      <th>Longtitude</th>\n",
       "    </tr>\n",
       "  </thead>\n",
       "  <tbody>\n",
       "    <tr>\n",
       "      <th>1</th>\n",
       "      <td>2</td>\n",
       "      <td>1.0</td>\n",
       "      <td>156.0</td>\n",
       "      <td>-37.8079</td>\n",
       "      <td>144.9934</td>\n",
       "    </tr>\n",
       "    <tr>\n",
       "      <th>2</th>\n",
       "      <td>3</td>\n",
       "      <td>2.0</td>\n",
       "      <td>134.0</td>\n",
       "      <td>-37.8093</td>\n",
       "      <td>144.9944</td>\n",
       "    </tr>\n",
       "    <tr>\n",
       "      <th>4</th>\n",
       "      <td>4</td>\n",
       "      <td>1.0</td>\n",
       "      <td>120.0</td>\n",
       "      <td>-37.8072</td>\n",
       "      <td>144.9941</td>\n",
       "    </tr>\n",
       "    <tr>\n",
       "      <th>6</th>\n",
       "      <td>3</td>\n",
       "      <td>2.0</td>\n",
       "      <td>245.0</td>\n",
       "      <td>-37.8024</td>\n",
       "      <td>144.9993</td>\n",
       "    </tr>\n",
       "    <tr>\n",
       "      <th>7</th>\n",
       "      <td>2</td>\n",
       "      <td>1.0</td>\n",
       "      <td>256.0</td>\n",
       "      <td>-37.8060</td>\n",
       "      <td>144.9954</td>\n",
       "    </tr>\n",
       "  </tbody>\n",
       "</table>\n",
       "</div>"
      ],
      "text/plain": [
       "   Rooms  Bathroom  Landsize  Lattitude  Longtitude\n",
       "1      2       1.0     156.0   -37.8079    144.9934\n",
       "2      3       2.0     134.0   -37.8093    144.9944\n",
       "4      4       1.0     120.0   -37.8072    144.9941\n",
       "6      3       2.0     245.0   -37.8024    144.9993\n",
       "7      2       1.0     256.0   -37.8060    144.9954"
      ]
     },
     "execution_count": 3,
     "metadata": {},
     "output_type": "execute_result"
    }
   ],
   "source": [
    "#step: select the prediction target\n",
    "y = melbourne_data.Price\n",
    "\n",
    "#step: choosing features:\n",
    "#melbourne_features = ['Rooms', 'Bathroom', 'Landsize', 'BuildingArea', 'YearBuilt', 'Lattitude', 'Longtitude']\n",
    "melbourne_features = ['Rooms', 'Bathroom', 'Landsize', 'Lattitude', 'Longtitude']\n",
    "X = melbourne_data[melbourne_features]\n",
    "X.head()"
   ]
  },
  {
   "cell_type": "code",
   "execution_count": 4,
   "id": "weird-significance",
   "metadata": {
    "execution": {
     "iopub.execute_input": "2024-04-19T00:14:14.662664Z",
     "iopub.status.busy": "2024-04-19T00:14:14.661694Z",
     "iopub.status.idle": "2024-04-19T00:14:14.693756Z",
     "shell.execute_reply": "2024-04-19T00:14:14.694323Z",
     "shell.execute_reply.started": "2024-04-19T00:02:02.769855Z"
    },
    "papermill": {
     "duration": 0.062965,
     "end_time": "2024-04-19T00:14:14.694561",
     "exception": false,
     "start_time": "2024-04-19T00:14:14.631596",
     "status": "completed"
    },
    "tags": []
   },
   "outputs": [
    {
     "data": {
      "text/html": [
       "<div>\n",
       "<style scoped>\n",
       "    .dataframe tbody tr th:only-of-type {\n",
       "        vertical-align: middle;\n",
       "    }\n",
       "\n",
       "    .dataframe tbody tr th {\n",
       "        vertical-align: top;\n",
       "    }\n",
       "\n",
       "    .dataframe thead th {\n",
       "        text-align: right;\n",
       "    }\n",
       "</style>\n",
       "<table border=\"1\" class=\"dataframe\">\n",
       "  <thead>\n",
       "    <tr style=\"text-align: right;\">\n",
       "      <th></th>\n",
       "      <th>Rooms</th>\n",
       "      <th>Bathroom</th>\n",
       "      <th>Landsize</th>\n",
       "      <th>Lattitude</th>\n",
       "      <th>Longtitude</th>\n",
       "    </tr>\n",
       "  </thead>\n",
       "  <tbody>\n",
       "    <tr>\n",
       "      <th>count</th>\n",
       "      <td>6196.000000</td>\n",
       "      <td>6196.000000</td>\n",
       "      <td>6196.000000</td>\n",
       "      <td>6196.000000</td>\n",
       "      <td>6196.000000</td>\n",
       "    </tr>\n",
       "    <tr>\n",
       "      <th>mean</th>\n",
       "      <td>2.931407</td>\n",
       "      <td>1.576340</td>\n",
       "      <td>471.006940</td>\n",
       "      <td>-37.807904</td>\n",
       "      <td>144.990201</td>\n",
       "    </tr>\n",
       "    <tr>\n",
       "      <th>std</th>\n",
       "      <td>0.971079</td>\n",
       "      <td>0.711362</td>\n",
       "      <td>897.449881</td>\n",
       "      <td>0.075850</td>\n",
       "      <td>0.099165</td>\n",
       "    </tr>\n",
       "    <tr>\n",
       "      <th>min</th>\n",
       "      <td>1.000000</td>\n",
       "      <td>1.000000</td>\n",
       "      <td>0.000000</td>\n",
       "      <td>-38.164920</td>\n",
       "      <td>144.542370</td>\n",
       "    </tr>\n",
       "    <tr>\n",
       "      <th>25%</th>\n",
       "      <td>2.000000</td>\n",
       "      <td>1.000000</td>\n",
       "      <td>152.000000</td>\n",
       "      <td>-37.855438</td>\n",
       "      <td>144.926198</td>\n",
       "    </tr>\n",
       "    <tr>\n",
       "      <th>50%</th>\n",
       "      <td>3.000000</td>\n",
       "      <td>1.000000</td>\n",
       "      <td>373.000000</td>\n",
       "      <td>-37.802250</td>\n",
       "      <td>144.995800</td>\n",
       "    </tr>\n",
       "    <tr>\n",
       "      <th>75%</th>\n",
       "      <td>4.000000</td>\n",
       "      <td>2.000000</td>\n",
       "      <td>628.000000</td>\n",
       "      <td>-37.758200</td>\n",
       "      <td>145.052700</td>\n",
       "    </tr>\n",
       "    <tr>\n",
       "      <th>max</th>\n",
       "      <td>8.000000</td>\n",
       "      <td>8.000000</td>\n",
       "      <td>37000.000000</td>\n",
       "      <td>-37.457090</td>\n",
       "      <td>145.526350</td>\n",
       "    </tr>\n",
       "  </tbody>\n",
       "</table>\n",
       "</div>"
      ],
      "text/plain": [
       "             Rooms     Bathroom      Landsize    Lattitude   Longtitude\n",
       "count  6196.000000  6196.000000   6196.000000  6196.000000  6196.000000\n",
       "mean      2.931407     1.576340    471.006940   -37.807904   144.990201\n",
       "std       0.971079     0.711362    897.449881     0.075850     0.099165\n",
       "min       1.000000     1.000000      0.000000   -38.164920   144.542370\n",
       "25%       2.000000     1.000000    152.000000   -37.855438   144.926198\n",
       "50%       3.000000     1.000000    373.000000   -37.802250   144.995800\n",
       "75%       4.000000     2.000000    628.000000   -37.758200   145.052700\n",
       "max       8.000000     8.000000  37000.000000   -37.457090   145.526350"
      ]
     },
     "execution_count": 4,
     "metadata": {},
     "output_type": "execute_result"
    }
   ],
   "source": [
    "X.describe()"
   ]
  },
  {
   "cell_type": "code",
   "execution_count": 5,
   "id": "mysterious-microphone",
   "metadata": {
    "execution": {
     "iopub.execute_input": "2024-04-19T00:14:14.739349Z",
     "iopub.status.busy": "2024-04-19T00:14:14.738447Z",
     "iopub.status.idle": "2024-04-19T00:14:16.051982Z",
     "shell.execute_reply": "2024-04-19T00:14:16.051273Z",
     "shell.execute_reply.started": "2024-04-19T00:02:02.803921Z"
    },
    "papermill": {
     "duration": 1.337359,
     "end_time": "2024-04-19T00:14:16.052177",
     "exception": false,
     "start_time": "2024-04-19T00:14:14.714818",
     "status": "completed"
    },
    "tags": []
   },
   "outputs": [
    {
     "data": {
      "text/plain": [
       "DecisionTreeRegressor(random_state=1)"
      ]
     },
     "execution_count": 5,
     "metadata": {},
     "output_type": "execute_result"
    }
   ],
   "source": [
    "from sklearn.tree import DecisionTreeRegressor\n",
    "\n",
    "#builing ML model\n",
    "# 1. Define\n",
    "melbourne_model = DecisionTreeRegressor(random_state=1)\n",
    "\n",
    "# 2.fit\n",
    "melbourne_model.fit(X,y)"
   ]
  },
  {
   "cell_type": "code",
   "execution_count": 6,
   "id": "driven-devil",
   "metadata": {
    "execution": {
     "iopub.execute_input": "2024-04-19T00:14:16.111819Z",
     "iopub.status.busy": "2024-04-19T00:14:16.110968Z",
     "iopub.status.idle": "2024-04-19T00:14:16.114861Z",
     "shell.execute_reply": "2024-04-19T00:14:16.115426Z",
     "shell.execute_reply.started": "2024-04-19T00:02:03.937506Z"
    },
    "papermill": {
     "duration": 0.0425,
     "end_time": "2024-04-19T00:14:16.115639",
     "exception": false,
     "start_time": "2024-04-19T00:14:16.073139",
     "status": "completed"
    },
    "tags": []
   },
   "outputs": [
    {
     "name": "stdout",
     "output_type": "stream",
     "text": [
      "Prediction for sample houses:\n",
      "   Rooms  Bathroom  Landsize  Lattitude  Longtitude\n",
      "1      2       1.0     156.0   -37.8079    144.9934\n",
      "2      3       2.0     134.0   -37.8093    144.9944\n",
      "4      4       1.0     120.0   -37.8072    144.9941\n",
      "6      3       2.0     245.0   -37.8024    144.9993\n",
      "7      2       1.0     256.0   -37.8060    144.9954\n",
      "are:\n",
      "[1035000. 1465000. 1600000. 1876000. 1636000.]\n"
     ]
    }
   ],
   "source": [
    "# 3. predict\n",
    "melbourne_sample = X.head()\n",
    "melbourne_predict = melbourne_model.predict(melbourne_sample)\n",
    "\n",
    "print('Prediction for sample houses:')\n",
    "print(melbourne_sample)\n",
    "print('are:')\n",
    "print(melbourne_predict)"
   ]
  },
  {
   "cell_type": "markdown",
   "id": "matched-interpretation",
   "metadata": {
    "papermill": {
     "duration": 0.020759,
     "end_time": "2024-04-19T00:14:16.157580",
     "exception": false,
     "start_time": "2024-04-19T00:14:16.136821",
     "status": "completed"
    },
    "tags": []
   },
   "source": [
    "# 2. ML model validation"
   ]
  },
  {
   "cell_type": "code",
   "execution_count": 7,
   "id": "seasonal-taiwan",
   "metadata": {
    "execution": {
     "iopub.execute_input": "2024-04-19T00:14:16.211555Z",
     "iopub.status.busy": "2024-04-19T00:14:16.210379Z",
     "iopub.status.idle": "2024-04-19T00:14:16.218492Z",
     "shell.execute_reply": "2024-04-19T00:14:16.219098Z",
     "shell.execute_reply.started": "2024-04-19T00:02:03.954888Z"
    },
    "papermill": {
     "duration": 0.03992,
     "end_time": "2024-04-19T00:14:16.219316",
     "exception": false,
     "start_time": "2024-04-19T00:14:16.179396",
     "status": "completed"
    },
    "tags": []
   },
   "outputs": [
    {
     "data": {
      "text/plain": [
       "1115.7467183128902"
      ]
     },
     "execution_count": 7,
     "metadata": {},
     "output_type": "execute_result"
    }
   ],
   "source": [
    "# MAE - Mean Absolute Error\n",
    "from sklearn.metrics import mean_absolute_error\n",
    "\n",
    "predicted_home_prices = melbourne_model.predict(X)\n",
    "\n",
    "#\"in-sample\" score -> Validation within predicted values\n",
    "mean_absolute_error(y,predicted_home_prices)\n"
   ]
  },
  {
   "cell_type": "code",
   "execution_count": 8,
   "id": "improved-vegetation",
   "metadata": {
    "execution": {
     "iopub.execute_input": "2024-04-19T00:14:16.267562Z",
     "iopub.status.busy": "2024-04-19T00:14:16.266407Z",
     "iopub.status.idle": "2024-04-19T00:14:16.306483Z",
     "shell.execute_reply": "2024-04-19T00:14:16.307145Z",
     "shell.execute_reply.started": "2024-04-19T00:02:03.967442Z"
    },
    "papermill": {
     "duration": 0.066248,
     "end_time": "2024-04-19T00:14:16.307372",
     "exception": false,
     "start_time": "2024-04-19T00:14:16.241124",
     "status": "completed"
    },
    "tags": []
   },
   "outputs": [
    {
     "name": "stdout",
     "output_type": "stream",
     "text": [
      "274985.6462233699\n"
     ]
    }
   ],
   "source": [
    "# solution for \"in-sample\" score: split into train/test samples (\"out-of-sample\")\n",
    "from sklearn.model_selection import train_test_split\n",
    "\n",
    "train_X, test_X, train_y, test_y = train_test_split(X, y, random_state = 0)\n",
    "\n",
    "melbourne_model = DecisionTreeRegressor()\n",
    "\n",
    "#fit to train\n",
    "melbourne_model.fit(train_X, train_y)\n",
    "\n",
    "#predict to test\n",
    "test_predictions = melbourne_model.predict(test_X)\n",
    "\n",
    "print(mean_absolute_error(test_y, test_predictions))\n",
    "\n"
   ]
  },
  {
   "cell_type": "markdown",
   "id": "needed-shape",
   "metadata": {
    "papermill": {
     "duration": 0.021785,
     "end_time": "2024-04-19T00:14:16.351221",
     "exception": false,
     "start_time": "2024-04-19T00:14:16.329436",
     "status": "completed"
    },
    "tags": []
   },
   "source": [
    "# 3. Controlling tree depth\n",
    "- **overfitting**: few samples per group -> model matches the training data almost perfectly -> poor for validation and new data\n",
    "- **underfitting**: many samples per group -> model matches the training data poorly"
   ]
  },
  {
   "cell_type": "code",
   "execution_count": 9,
   "id": "based-correction",
   "metadata": {
    "execution": {
     "iopub.execute_input": "2024-04-19T00:14:16.400382Z",
     "iopub.status.busy": "2024-04-19T00:14:16.399258Z",
     "iopub.status.idle": "2024-04-19T00:14:16.519823Z",
     "shell.execute_reply": "2024-04-19T00:14:16.520602Z",
     "shell.execute_reply.started": "2024-04-19T00:02:04.011449Z"
    },
    "papermill": {
     "duration": 0.147575,
     "end_time": "2024-04-19T00:14:16.520858",
     "exception": false,
     "start_time": "2024-04-19T00:14:16.373283",
     "status": "completed"
    },
    "tags": []
   },
   "outputs": [
    {
     "name": "stdout",
     "output_type": "stream",
     "text": [
      "Max leaf nodes: 10  \t\t Mean Absolute Error:  333908\n",
      "Max leaf nodes: 100  \t\t Mean Absolute Error:  269191\n",
      "Max leaf nodes: 500  \t\t Mean Absolute Error:  261718\n",
      "Max leaf nodes: 1000  \t\t Mean Absolute Error:  262426\n",
      "Max leaf nodes: 10000  \t\t Mean Absolute Error:  271996\n"
     ]
    }
   ],
   "source": [
    "#function to help compare MAE from different values of max_leaf_nodes\n",
    "from sklearn.metrics import mean_absolute_error\n",
    "from sklearn.tree import DecisionTreeRegressor\n",
    "\n",
    "def get_mae(max_leaf_nodes, train_X, test_X, train_y, test_y):\n",
    "    model = DecisionTreeRegressor(max_leaf_nodes=max_leaf_nodes, random_state=0)\n",
    "    model.fit(train_X, train_y)\n",
    "    preds_val = model.predict(test_X)\n",
    "    mae = mean_absolute_error(test_y, preds_val)\n",
    "    return(mae)\n",
    "\n",
    "for max_leaf_nodes in [10, 100, 500, 1000, 10000]:\n",
    "    my_mae = get_mae(max_leaf_nodes, train_X, test_X, train_y, test_y)\n",
    "    print(\"Max leaf nodes: %d  \\t\\t Mean Absolute Error:  %d\" %(max_leaf_nodes, my_mae))"
   ]
  },
  {
   "cell_type": "markdown",
   "id": "complimentary-galaxy",
   "metadata": {
    "papermill": {
     "duration": 0.022767,
     "end_time": "2024-04-19T00:14:16.566271",
     "exception": false,
     "start_time": "2024-04-19T00:14:16.543504",
     "status": "completed"
    },
    "tags": []
   },
   "source": [
    "# 4. Using Random Forest Model"
   ]
  },
  {
   "cell_type": "code",
   "execution_count": 10,
   "id": "southeast-turtle",
   "metadata": {
    "execution": {
     "iopub.execute_input": "2024-04-19T00:14:16.616193Z",
     "iopub.status.busy": "2024-04-19T00:14:16.615099Z",
     "iopub.status.idle": "2024-04-19T00:14:18.205953Z",
     "shell.execute_reply": "2024-04-19T00:14:18.206527Z",
     "shell.execute_reply.started": "2024-04-19T00:02:04.119735Z"
    },
    "papermill": {
     "duration": 1.617837,
     "end_time": "2024-04-19T00:14:18.206777",
     "exception": false,
     "start_time": "2024-04-19T00:14:16.588940",
     "status": "completed"
    },
    "tags": []
   },
   "outputs": [
    {
     "name": "stdout",
     "output_type": "stream",
     "text": [
      "207190.6873773146\n"
     ]
    }
   ],
   "source": [
    "from sklearn.ensemble import RandomForestRegressor\n",
    "from sklearn.metrics import mean_absolute_error\n",
    "\n",
    "melbourne_f_model = RandomForestRegressor(random_state = 1)\n",
    "melbourne_f_model.fit(train_X, train_y)\n",
    "f_test_predictions = melbourne_f_model.predict(test_X)\n",
    "f_mae = mean_absolute_error(test_y, f_test_predictions)\n",
    "\n",
    "print(f_mae)"
   ]
  },
  {
   "cell_type": "markdown",
   "id": "worthy-emphasis",
   "metadata": {
    "papermill": {
     "duration": 0.022482,
     "end_time": "2024-04-19T00:14:18.252313",
     "exception": false,
     "start_time": "2024-04-19T00:14:18.229831",
     "status": "completed"
    },
    "tags": []
   },
   "source": [
    "### Test: Permutation Importance"
   ]
  },
  {
   "cell_type": "code",
   "execution_count": 11,
   "id": "expensive-roulette",
   "metadata": {
    "execution": {
     "iopub.execute_input": "2024-04-19T00:14:18.302130Z",
     "iopub.status.busy": "2024-04-19T00:14:18.301282Z",
     "iopub.status.idle": "2024-04-19T00:14:29.004290Z",
     "shell.execute_reply": "2024-04-19T00:14:29.003369Z",
     "shell.execute_reply.started": "2024-04-19T00:06:10.666007Z"
    },
    "papermill": {
     "duration": 10.729128,
     "end_time": "2024-04-19T00:14:29.004481",
     "exception": false,
     "start_time": "2024-04-19T00:14:18.275353",
     "status": "completed"
    },
    "tags": []
   },
   "outputs": [
    {
     "data": {
      "text/html": [
       "<style type='text/css'>\n",
       ".datatable table.frame { margin-bottom: 0; }\n",
       ".datatable table.frame thead { border-bottom: none; }\n",
       ".datatable table.frame tr.coltypes td {  color: #FFFFFF;  line-height: 6px;  padding: 0 0.5em;}\n",
       ".datatable .bool    { background: #DDDD99; }\n",
       ".datatable .object  { background: #565656; }\n",
       ".datatable .int     { background: #5D9E5D; }\n",
       ".datatable .float   { background: #4040CC; }\n",
       ".datatable .str     { background: #CC4040; }\n",
       ".datatable .row_index {  background: var(--jp-border-color3);  border-right: 1px solid var(--jp-border-color0);  color: var(--jp-ui-font-color3);  font-size: 9px;}\n",
       ".datatable .frame tr.coltypes .row_index {  background: var(--jp-border-color0);}\n",
       ".datatable th:nth-child(2) { padding-left: 12px; }\n",
       ".datatable .hellipsis {  color: var(--jp-cell-editor-border-color);}\n",
       ".datatable .vellipsis {  background: var(--jp-layout-color0);  color: var(--jp-cell-editor-border-color);}\n",
       ".datatable .na {  color: var(--jp-cell-editor-border-color);  font-size: 80%;}\n",
       ".datatable .footer { font-size: 9px; }\n",
       ".datatable .frame_dimensions {  background: var(--jp-border-color3);  border-top: 1px solid var(--jp-border-color0);  color: var(--jp-ui-font-color3);  display: inline-block;  opacity: 0.6;  padding: 1px 10px 1px 5px;}\n",
       "</style>\n"
      ],
      "text/plain": [
       "<IPython.core.display.HTML object>"
      ]
     },
     "metadata": {},
     "output_type": "display_data"
    }
   ],
   "source": [
    "import eli5\n",
    "from eli5.sklearn import PermutationImportance\n",
    "\n",
    "perm = PermutationImportance(melbourne_f_model, random_state=1).fit(train_X, train_y)"
   ]
  },
  {
   "cell_type": "code",
   "execution_count": 12,
   "id": "undefined-south",
   "metadata": {
    "execution": {
     "iopub.execute_input": "2024-04-19T00:14:29.060474Z",
     "iopub.status.busy": "2024-04-19T00:14:29.059650Z",
     "iopub.status.idle": "2024-04-19T00:14:29.096056Z",
     "shell.execute_reply": "2024-04-19T00:14:29.096644Z",
     "shell.execute_reply.started": "2024-04-19T00:06:43.763912Z"
    },
    "papermill": {
     "duration": 0.068348,
     "end_time": "2024-04-19T00:14:29.096902",
     "exception": false,
     "start_time": "2024-04-19T00:14:29.028554",
     "status": "completed"
    },
    "tags": []
   },
   "outputs": [
    {
     "data": {
      "text/html": [
       "\n",
       "    <style>\n",
       "    table.eli5-weights tr:hover {\n",
       "        filter: brightness(85%);\n",
       "    }\n",
       "</style>\n",
       "\n",
       "\n",
       "\n",
       "    \n",
       "\n",
       "    \n",
       "\n",
       "    \n",
       "\n",
       "    \n",
       "\n",
       "    \n",
       "\n",
       "    \n",
       "\n",
       "\n",
       "    \n",
       "\n",
       "    \n",
       "\n",
       "    \n",
       "\n",
       "    \n",
       "\n",
       "    \n",
       "\n",
       "    \n",
       "\n",
       "\n",
       "    \n",
       "\n",
       "    \n",
       "\n",
       "    \n",
       "\n",
       "    \n",
       "\n",
       "    \n",
       "        <table class=\"eli5-weights eli5-feature-importances\" style=\"border-collapse: collapse; border: none; margin-top: 0em; table-layout: auto;\">\n",
       "    <thead>\n",
       "    <tr style=\"border: none;\">\n",
       "        <th style=\"padding: 0 1em 0 0.5em; text-align: right; border: none;\">Weight</th>\n",
       "        <th style=\"padding: 0 0.5em 0 0.5em; text-align: left; border: none;\">Feature</th>\n",
       "    </tr>\n",
       "    </thead>\n",
       "    <tbody>\n",
       "    \n",
       "        <tr style=\"background-color: hsl(120, 100.00%, 80.00%); border: none;\">\n",
       "            <td style=\"padding: 0 1em 0 0.5em; text-align: right; border: none;\">\n",
       "                0.8498\n",
       "                \n",
       "                    &plusmn; 0.0691\n",
       "                \n",
       "            </td>\n",
       "            <td style=\"padding: 0 0.5em 0 0.5em; text-align: left; border: none;\">\n",
       "                Rooms\n",
       "            </td>\n",
       "        </tr>\n",
       "    \n",
       "        <tr style=\"background-color: hsl(120, 100.00%, 80.69%); border: none;\">\n",
       "            <td style=\"padding: 0 1em 0 0.5em; text-align: right; border: none;\">\n",
       "                0.8080\n",
       "                \n",
       "                    &plusmn; 0.0285\n",
       "                \n",
       "            </td>\n",
       "            <td style=\"padding: 0 0.5em 0 0.5em; text-align: left; border: none;\">\n",
       "                Lattitude\n",
       "            </td>\n",
       "        </tr>\n",
       "    \n",
       "        <tr style=\"background-color: hsl(120, 100.00%, 83.05%); border: none;\">\n",
       "            <td style=\"padding: 0 1em 0 0.5em; text-align: right; border: none;\">\n",
       "                0.6708\n",
       "                \n",
       "                    &plusmn; 0.0354\n",
       "                \n",
       "            </td>\n",
       "            <td style=\"padding: 0 0.5em 0 0.5em; text-align: left; border: none;\">\n",
       "                Longtitude\n",
       "            </td>\n",
       "        </tr>\n",
       "    \n",
       "        <tr style=\"background-color: hsl(120, 100.00%, 88.14%); border: none;\">\n",
       "            <td style=\"padding: 0 1em 0 0.5em; text-align: right; border: none;\">\n",
       "                0.4027\n",
       "                \n",
       "                    &plusmn; 0.0265\n",
       "                \n",
       "            </td>\n",
       "            <td style=\"padding: 0 0.5em 0 0.5em; text-align: left; border: none;\">\n",
       "                Landsize\n",
       "            </td>\n",
       "        </tr>\n",
       "    \n",
       "        <tr style=\"background-color: hsl(120, 100.00%, 96.38%); border: none;\">\n",
       "            <td style=\"padding: 0 1em 0 0.5em; text-align: right; border: none;\">\n",
       "                0.0741\n",
       "                \n",
       "                    &plusmn; 0.0038\n",
       "                \n",
       "            </td>\n",
       "            <td style=\"padding: 0 0.5em 0 0.5em; text-align: left; border: none;\">\n",
       "                Bathroom\n",
       "            </td>\n",
       "        </tr>\n",
       "    \n",
       "    \n",
       "    </tbody>\n",
       "</table>\n",
       "    \n",
       "\n",
       "    \n",
       "\n",
       "\n",
       "    \n",
       "\n",
       "    \n",
       "\n",
       "    \n",
       "\n",
       "    \n",
       "\n",
       "    \n",
       "\n",
       "    \n",
       "\n",
       "\n",
       "\n"
      ],
      "text/plain": [
       "<IPython.core.display.HTML object>"
      ]
     },
     "execution_count": 12,
     "metadata": {},
     "output_type": "execute_result"
    }
   ],
   "source": [
    "eli5.show_weights(perm, feature_names = train_X.columns.tolist())"
   ]
  }
 ],
 "metadata": {
  "kaggle": {
   "accelerator": "none",
   "dataSources": [
    {
     "datasetId": 2709,
     "sourceId": 38454,
     "sourceType": "datasetVersion"
    }
   ],
   "dockerImageVersionId": 30096,
   "isGpuEnabled": false,
   "isInternetEnabled": false,
   "language": "python",
   "sourceType": "notebook"
  },
  "kernelspec": {
   "display_name": "Python 3",
   "language": "python",
   "name": "python3"
  },
  "language_info": {
   "codemirror_mode": {
    "name": "ipython",
    "version": 3
   },
   "file_extension": ".py",
   "mimetype": "text/x-python",
   "name": "python",
   "nbconvert_exporter": "python",
   "pygments_lexer": "ipython3",
   "version": "3.7.10"
  },
  "papermill": {
   "default_parameters": {},
   "duration": 26.892789,
   "end_time": "2024-04-19T00:14:31.417256",
   "environment_variables": {},
   "exception": null,
   "input_path": "__notebook__.ipynb",
   "output_path": "__notebook__.ipynb",
   "parameters": {},
   "start_time": "2024-04-19T00:14:04.524467",
   "version": "2.3.3"
  }
 },
 "nbformat": 4,
 "nbformat_minor": 5
}
