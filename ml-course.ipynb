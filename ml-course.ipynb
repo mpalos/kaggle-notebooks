{
 "cells": [
  {
   "cell_type": "markdown",
   "id": "alpine-wealth",
   "metadata": {
    "papermill": {
     "duration": 0.012271,
     "end_time": "2022-02-24T01:47:16.867023",
     "exception": false,
     "start_time": "2022-02-24T01:47:16.854752",
     "status": "completed"
    },
    "tags": []
   },
   "source": [
    "This notebook is a summary of ML courses.\n",
    "https://www.kaggle.com/learn/intro-to-machine-learning"
   ]
  },
  {
   "cell_type": "code",
   "execution_count": 1,
   "id": "democratic-blues",
   "metadata": {
    "_cell_guid": "b1076dfc-b9ad-4769-8c92-a6c4dae69d19",
    "_uuid": "8f2839f25d086af736a60e9eeb907d3b93b6e0e5",
    "execution": {
     "iopub.execute_input": "2022-02-24T01:47:16.900220Z",
     "iopub.status.busy": "2022-02-24T01:47:16.899541Z",
     "iopub.status.idle": "2022-02-24T01:47:16.909045Z",
     "shell.execute_reply": "2022-02-24T01:47:16.909641Z",
     "shell.execute_reply.started": "2021-11-11T20:17:07.193508Z"
    },
    "papermill": {
     "duration": 0.032652,
     "end_time": "2022-02-24T01:47:16.909909",
     "exception": false,
     "start_time": "2022-02-24T01:47:16.877257",
     "status": "completed"
    },
    "tags": []
   },
   "outputs": [
    {
     "name": "stdout",
     "output_type": "stream",
     "text": [
      "/kaggle/input/melbourne-housing-snapshot/melb_data.csv\n"
     ]
    }
   ],
   "source": [
    "# This Python 3 environment comes with many helpful analytics libraries installed\n",
    "# It is defined by the kaggle/python Docker image: https://github.com/kaggle/docker-python\n",
    "# For example, here's several helpful packages to load\n",
    "\n",
    "import numpy as np # linear algebra\n",
    "import pandas as pd # data processing, CSV file I/O (e.g. pd.read_csv)\n",
    "\n",
    "# Input data files are available in the read-only \"../input/\" directory\n",
    "# For example, running this (by clicking run or pressing Shift+Enter) will list all files under the input directory\n",
    "\n",
    "import os\n",
    "for dirname, _, filenames in os.walk('/kaggle/input'):\n",
    "    for filename in filenames:\n",
    "        print(os.path.join(dirname, filename))\n",
    "\n",
    "# You can write up to 20GB to the current directory (/kaggle/working/) that gets preserved as output when you create a version using \"Save & Run All\" \n",
    "# You can also write temporary files to /kaggle/temp/, but they won't be saved outside of the current session"
   ]
  },
  {
   "cell_type": "markdown",
   "id": "intellectual-boost",
   "metadata": {
    "papermill": {
     "duration": 0.015133,
     "end_time": "2022-02-24T01:47:16.941038",
     "exception": false,
     "start_time": "2022-02-24T01:47:16.925905",
     "status": "completed"
    },
    "tags": []
   },
   "source": [
    "some convensions:\n",
    "* the prediction target is called y\n",
    "* the features set is called X"
   ]
  },
  {
   "cell_type": "markdown",
   "id": "sustainable-oriental",
   "metadata": {
    "papermill": {
     "duration": 0.014894,
     "end_time": "2022-02-24T01:47:16.970933",
     "exception": false,
     "start_time": "2022-02-24T01:47:16.956039",
     "status": "completed"
    },
    "tags": []
   },
   "source": [
    "# 1. ML model building"
   ]
  },
  {
   "cell_type": "code",
   "execution_count": 2,
   "id": "alike-score",
   "metadata": {
    "execution": {
     "iopub.execute_input": "2022-02-24T01:47:17.003616Z",
     "iopub.status.busy": "2022-02-24T01:47:17.003013Z",
     "iopub.status.idle": "2022-02-24T01:47:17.110544Z",
     "shell.execute_reply": "2022-02-24T01:47:17.111267Z",
     "shell.execute_reply.started": "2021-11-11T20:17:07.204784Z"
    },
    "papermill": {
     "duration": 0.125591,
     "end_time": "2022-02-24T01:47:17.111456",
     "exception": false,
     "start_time": "2022-02-24T01:47:16.985865",
     "status": "completed"
    },
    "tags": []
   },
   "outputs": [
    {
     "data": {
      "text/plain": [
       "Index(['Suburb', 'Address', 'Rooms', 'Type', 'Price', 'Method', 'SellerG',\n",
       "       'Date', 'Distance', 'Postcode', 'Bedroom2', 'Bathroom', 'Car',\n",
       "       'Landsize', 'BuildingArea', 'YearBuilt', 'CouncilArea', 'Lattitude',\n",
       "       'Longtitude', 'Regionname', 'Propertycount'],\n",
       "      dtype='object')"
      ]
     },
     "execution_count": 2,
     "metadata": {},
     "output_type": "execute_result"
    }
   ],
   "source": [
    "#step: get the dataset and clean 'na' values\n",
    "melbourne_file_path = '../input/melbourne-housing-snapshot/melb_data.csv'\n",
    "melbourne_data = pd.read_csv(melbourne_file_path)\n",
    "melbourne_data = melbourne_data.dropna(axis=0)\n",
    "melbourne_data.columns"
   ]
  },
  {
   "cell_type": "code",
   "execution_count": 3,
   "id": "dramatic-greece",
   "metadata": {
    "execution": {
     "iopub.execute_input": "2022-02-24T01:47:17.149606Z",
     "iopub.status.busy": "2022-02-24T01:47:17.149069Z",
     "iopub.status.idle": "2022-02-24T01:47:17.165064Z",
     "shell.execute_reply": "2022-02-24T01:47:17.165495Z",
     "shell.execute_reply.started": "2021-11-11T20:17:07.30042Z"
    },
    "papermill": {
     "duration": 0.038258,
     "end_time": "2022-02-24T01:47:17.165627",
     "exception": false,
     "start_time": "2022-02-24T01:47:17.127369",
     "status": "completed"
    },
    "tags": []
   },
   "outputs": [
    {
     "data": {
      "text/html": [
       "<div>\n",
       "<style scoped>\n",
       "    .dataframe tbody tr th:only-of-type {\n",
       "        vertical-align: middle;\n",
       "    }\n",
       "\n",
       "    .dataframe tbody tr th {\n",
       "        vertical-align: top;\n",
       "    }\n",
       "\n",
       "    .dataframe thead th {\n",
       "        text-align: right;\n",
       "    }\n",
       "</style>\n",
       "<table border=\"1\" class=\"dataframe\">\n",
       "  <thead>\n",
       "    <tr style=\"text-align: right;\">\n",
       "      <th></th>\n",
       "      <th>Rooms</th>\n",
       "      <th>Bathroom</th>\n",
       "      <th>Landsize</th>\n",
       "      <th>Lattitude</th>\n",
       "      <th>Longtitude</th>\n",
       "    </tr>\n",
       "  </thead>\n",
       "  <tbody>\n",
       "    <tr>\n",
       "      <th>1</th>\n",
       "      <td>2</td>\n",
       "      <td>1.0</td>\n",
       "      <td>156.0</td>\n",
       "      <td>-37.8079</td>\n",
       "      <td>144.9934</td>\n",
       "    </tr>\n",
       "    <tr>\n",
       "      <th>2</th>\n",
       "      <td>3</td>\n",
       "      <td>2.0</td>\n",
       "      <td>134.0</td>\n",
       "      <td>-37.8093</td>\n",
       "      <td>144.9944</td>\n",
       "    </tr>\n",
       "    <tr>\n",
       "      <th>4</th>\n",
       "      <td>4</td>\n",
       "      <td>1.0</td>\n",
       "      <td>120.0</td>\n",
       "      <td>-37.8072</td>\n",
       "      <td>144.9941</td>\n",
       "    </tr>\n",
       "    <tr>\n",
       "      <th>6</th>\n",
       "      <td>3</td>\n",
       "      <td>2.0</td>\n",
       "      <td>245.0</td>\n",
       "      <td>-37.8024</td>\n",
       "      <td>144.9993</td>\n",
       "    </tr>\n",
       "    <tr>\n",
       "      <th>7</th>\n",
       "      <td>2</td>\n",
       "      <td>1.0</td>\n",
       "      <td>256.0</td>\n",
       "      <td>-37.8060</td>\n",
       "      <td>144.9954</td>\n",
       "    </tr>\n",
       "  </tbody>\n",
       "</table>\n",
       "</div>"
      ],
      "text/plain": [
       "   Rooms  Bathroom  Landsize  Lattitude  Longtitude\n",
       "1      2       1.0     156.0   -37.8079    144.9934\n",
       "2      3       2.0     134.0   -37.8093    144.9944\n",
       "4      4       1.0     120.0   -37.8072    144.9941\n",
       "6      3       2.0     245.0   -37.8024    144.9993\n",
       "7      2       1.0     256.0   -37.8060    144.9954"
      ]
     },
     "execution_count": 3,
     "metadata": {},
     "output_type": "execute_result"
    }
   ],
   "source": [
    "#step: select the prediction target\n",
    "y = melbourne_data.Price\n",
    "\n",
    "#step: choosing features:\n",
    "#melbourne_features = ['Rooms', 'Bathroom', 'Landsize', 'BuildingArea', 'YearBuilt', 'Lattitude', 'Longtitude']\n",
    "melbourne_features = ['Rooms', 'Bathroom', 'Landsize', 'Lattitude', 'Longtitude']\n",
    "X = melbourne_data[melbourne_features]\n",
    "X.head()"
   ]
  },
  {
   "cell_type": "code",
   "execution_count": 4,
   "id": "tracked-transsexual",
   "metadata": {
    "execution": {
     "iopub.execute_input": "2022-02-24T01:47:17.190766Z",
     "iopub.status.busy": "2022-02-24T01:47:17.190297Z",
     "iopub.status.idle": "2022-02-24T01:47:17.218651Z",
     "shell.execute_reply": "2022-02-24T01:47:17.219068Z",
     "shell.execute_reply.started": "2021-11-11T20:17:07.317755Z"
    },
    "papermill": {
     "duration": 0.042411,
     "end_time": "2022-02-24T01:47:17.219212",
     "exception": false,
     "start_time": "2022-02-24T01:47:17.176801",
     "status": "completed"
    },
    "tags": []
   },
   "outputs": [
    {
     "data": {
      "text/html": [
       "<div>\n",
       "<style scoped>\n",
       "    .dataframe tbody tr th:only-of-type {\n",
       "        vertical-align: middle;\n",
       "    }\n",
       "\n",
       "    .dataframe tbody tr th {\n",
       "        vertical-align: top;\n",
       "    }\n",
       "\n",
       "    .dataframe thead th {\n",
       "        text-align: right;\n",
       "    }\n",
       "</style>\n",
       "<table border=\"1\" class=\"dataframe\">\n",
       "  <thead>\n",
       "    <tr style=\"text-align: right;\">\n",
       "      <th></th>\n",
       "      <th>Rooms</th>\n",
       "      <th>Bathroom</th>\n",
       "      <th>Landsize</th>\n",
       "      <th>Lattitude</th>\n",
       "      <th>Longtitude</th>\n",
       "    </tr>\n",
       "  </thead>\n",
       "  <tbody>\n",
       "    <tr>\n",
       "      <th>count</th>\n",
       "      <td>6196.000000</td>\n",
       "      <td>6196.000000</td>\n",
       "      <td>6196.000000</td>\n",
       "      <td>6196.000000</td>\n",
       "      <td>6196.000000</td>\n",
       "    </tr>\n",
       "    <tr>\n",
       "      <th>mean</th>\n",
       "      <td>2.931407</td>\n",
       "      <td>1.576340</td>\n",
       "      <td>471.006940</td>\n",
       "      <td>-37.807904</td>\n",
       "      <td>144.990201</td>\n",
       "    </tr>\n",
       "    <tr>\n",
       "      <th>std</th>\n",
       "      <td>0.971079</td>\n",
       "      <td>0.711362</td>\n",
       "      <td>897.449881</td>\n",
       "      <td>0.075850</td>\n",
       "      <td>0.099165</td>\n",
       "    </tr>\n",
       "    <tr>\n",
       "      <th>min</th>\n",
       "      <td>1.000000</td>\n",
       "      <td>1.000000</td>\n",
       "      <td>0.000000</td>\n",
       "      <td>-38.164920</td>\n",
       "      <td>144.542370</td>\n",
       "    </tr>\n",
       "    <tr>\n",
       "      <th>25%</th>\n",
       "      <td>2.000000</td>\n",
       "      <td>1.000000</td>\n",
       "      <td>152.000000</td>\n",
       "      <td>-37.855438</td>\n",
       "      <td>144.926198</td>\n",
       "    </tr>\n",
       "    <tr>\n",
       "      <th>50%</th>\n",
       "      <td>3.000000</td>\n",
       "      <td>1.000000</td>\n",
       "      <td>373.000000</td>\n",
       "      <td>-37.802250</td>\n",
       "      <td>144.995800</td>\n",
       "    </tr>\n",
       "    <tr>\n",
       "      <th>75%</th>\n",
       "      <td>4.000000</td>\n",
       "      <td>2.000000</td>\n",
       "      <td>628.000000</td>\n",
       "      <td>-37.758200</td>\n",
       "      <td>145.052700</td>\n",
       "    </tr>\n",
       "    <tr>\n",
       "      <th>max</th>\n",
       "      <td>8.000000</td>\n",
       "      <td>8.000000</td>\n",
       "      <td>37000.000000</td>\n",
       "      <td>-37.457090</td>\n",
       "      <td>145.526350</td>\n",
       "    </tr>\n",
       "  </tbody>\n",
       "</table>\n",
       "</div>"
      ],
      "text/plain": [
       "             Rooms     Bathroom      Landsize    Lattitude   Longtitude\n",
       "count  6196.000000  6196.000000   6196.000000  6196.000000  6196.000000\n",
       "mean      2.931407     1.576340    471.006940   -37.807904   144.990201\n",
       "std       0.971079     0.711362    897.449881     0.075850     0.099165\n",
       "min       1.000000     1.000000      0.000000   -38.164920   144.542370\n",
       "25%       2.000000     1.000000    152.000000   -37.855438   144.926198\n",
       "50%       3.000000     1.000000    373.000000   -37.802250   144.995800\n",
       "75%       4.000000     2.000000    628.000000   -37.758200   145.052700\n",
       "max       8.000000     8.000000  37000.000000   -37.457090   145.526350"
      ]
     },
     "execution_count": 4,
     "metadata": {},
     "output_type": "execute_result"
    }
   ],
   "source": [
    "X.describe()"
   ]
  },
  {
   "cell_type": "code",
   "execution_count": 5,
   "id": "steady-journalist",
   "metadata": {
    "execution": {
     "iopub.execute_input": "2022-02-24T01:47:17.243129Z",
     "iopub.status.busy": "2022-02-24T01:47:17.242697Z",
     "iopub.status.idle": "2022-02-24T01:47:18.232148Z",
     "shell.execute_reply": "2022-02-24T01:47:18.232626Z",
     "shell.execute_reply.started": "2021-11-11T20:17:07.354183Z"
    },
    "papermill": {
     "duration": 1.002507,
     "end_time": "2022-02-24T01:47:18.232758",
     "exception": false,
     "start_time": "2022-02-24T01:47:17.230251",
     "status": "completed"
    },
    "tags": []
   },
   "outputs": [
    {
     "data": {
      "text/plain": [
       "DecisionTreeRegressor(random_state=1)"
      ]
     },
     "execution_count": 5,
     "metadata": {},
     "output_type": "execute_result"
    }
   ],
   "source": [
    "from sklearn.tree import DecisionTreeRegressor\n",
    "\n",
    "#builing ML model\n",
    "# 1. Define\n",
    "melbourne_model = DecisionTreeRegressor(random_state=1)\n",
    "\n",
    "# 2.fit\n",
    "melbourne_model.fit(X,y)"
   ]
  },
  {
   "cell_type": "code",
   "execution_count": 6,
   "id": "significant-intro",
   "metadata": {
    "execution": {
     "iopub.execute_input": "2022-02-24T01:47:18.257932Z",
     "iopub.status.busy": "2022-02-24T01:47:18.257496Z",
     "iopub.status.idle": "2022-02-24T01:47:18.269605Z",
     "shell.execute_reply": "2022-02-24T01:47:18.270234Z",
     "shell.execute_reply.started": "2021-11-11T20:17:07.39293Z"
    },
    "papermill": {
     "duration": 0.026447,
     "end_time": "2022-02-24T01:47:18.270441",
     "exception": false,
     "start_time": "2022-02-24T01:47:18.243994",
     "status": "completed"
    },
    "tags": []
   },
   "outputs": [
    {
     "name": "stdout",
     "output_type": "stream",
     "text": [
      "Prediction for sample houses:\n",
      "   Rooms  Bathroom  Landsize  Lattitude  Longtitude\n",
      "1      2       1.0     156.0   -37.8079    144.9934\n",
      "2      3       2.0     134.0   -37.8093    144.9944\n",
      "4      4       1.0     120.0   -37.8072    144.9941\n",
      "6      3       2.0     245.0   -37.8024    144.9993\n",
      "7      2       1.0     256.0   -37.8060    144.9954\n",
      "are:\n",
      "[1035000. 1465000. 1600000. 1876000. 1636000.]\n"
     ]
    }
   ],
   "source": [
    "# 3. predict\n",
    "melbourne_sample = X.head()\n",
    "melbourne_predict = melbourne_model.predict(melbourne_sample)\n",
    "\n",
    "print('Prediction for sample houses:')\n",
    "print(melbourne_sample)\n",
    "print('are:')\n",
    "print(melbourne_predict)"
   ]
  },
  {
   "cell_type": "markdown",
   "id": "precious-double",
   "metadata": {
    "papermill": {
     "duration": 0.017544,
     "end_time": "2022-02-24T01:47:18.306425",
     "exception": false,
     "start_time": "2022-02-24T01:47:18.288881",
     "status": "completed"
    },
    "tags": []
   },
   "source": [
    "# 2. ML model validation"
   ]
  },
  {
   "cell_type": "code",
   "execution_count": 7,
   "id": "embedded-costa",
   "metadata": {
    "execution": {
     "iopub.execute_input": "2022-02-24T01:47:18.345616Z",
     "iopub.status.busy": "2022-02-24T01:47:18.344938Z",
     "iopub.status.idle": "2022-02-24T01:47:18.355626Z",
     "shell.execute_reply": "2022-02-24T01:47:18.354621Z",
     "shell.execute_reply.started": "2021-11-11T20:17:07.406712Z"
    },
    "papermill": {
     "duration": 0.031697,
     "end_time": "2022-02-24T01:47:18.355802",
     "exception": false,
     "start_time": "2022-02-24T01:47:18.324105",
     "status": "completed"
    },
    "tags": []
   },
   "outputs": [
    {
     "data": {
      "text/plain": [
       "1115.7467183128902"
      ]
     },
     "execution_count": 7,
     "metadata": {},
     "output_type": "execute_result"
    }
   ],
   "source": [
    "# MAE - Mean Absolute Error\n",
    "from sklearn.metrics import mean_absolute_error\n",
    "\n",
    "predicted_home_prices = melbourne_model.predict(X)\n",
    "\n",
    "#\"in-sample\" score -> Validation within predicted values\n",
    "mean_absolute_error(y,predicted_home_prices)\n"
   ]
  },
  {
   "cell_type": "code",
   "execution_count": 8,
   "id": "separated-intent",
   "metadata": {
    "execution": {
     "iopub.execute_input": "2022-02-24T01:47:18.402980Z",
     "iopub.status.busy": "2022-02-24T01:47:18.401998Z",
     "iopub.status.idle": "2022-02-24T01:47:18.443898Z",
     "shell.execute_reply": "2022-02-24T01:47:18.444422Z",
     "shell.execute_reply.started": "2021-11-11T20:17:07.424621Z"
    },
    "papermill": {
     "duration": 0.065692,
     "end_time": "2022-02-24T01:47:18.444590",
     "exception": false,
     "start_time": "2022-02-24T01:47:18.378898",
     "status": "completed"
    },
    "tags": []
   },
   "outputs": [
    {
     "name": "stdout",
     "output_type": "stream",
     "text": [
      "276495.49494297395\n"
     ]
    }
   ],
   "source": [
    "# solution for \"in-sample\" score: split into train/test samples (\"out-of-sample\")\n",
    "from sklearn.model_selection import train_test_split\n",
    "\n",
    "train_X, test_X, train_y, test_y = train_test_split(X, y, random_state = 0)\n",
    "\n",
    "melbourne_model = DecisionTreeRegressor()\n",
    "\n",
    "#fit to train\n",
    "melbourne_model.fit(train_X, train_y)\n",
    "\n",
    "#predict to test\n",
    "test_predictions = melbourne_model.predict(test_X)\n",
    "\n",
    "print(mean_absolute_error(test_y, test_predictions))\n",
    "\n"
   ]
  },
  {
   "cell_type": "markdown",
   "id": "third-renaissance",
   "metadata": {
    "papermill": {
     "duration": 0.012488,
     "end_time": "2022-02-24T01:47:18.469824",
     "exception": false,
     "start_time": "2022-02-24T01:47:18.457336",
     "status": "completed"
    },
    "tags": []
   },
   "source": [
    "# 3. Controlling tree depth\n",
    "- **overfitting**: few samples per group -> model matches the training data almost perfectly -> poor for validation and new data\n",
    "- **underfitting**: many samples per group -> model matches the training data poorly"
   ]
  },
  {
   "cell_type": "code",
   "execution_count": 9,
   "id": "prime-auckland",
   "metadata": {
    "execution": {
     "iopub.execute_input": "2022-02-24T01:47:18.497579Z",
     "iopub.status.busy": "2022-02-24T01:47:18.497097Z",
     "iopub.status.idle": "2022-02-24T01:47:18.614372Z",
     "shell.execute_reply": "2022-02-24T01:47:18.614753Z",
     "shell.execute_reply.started": "2021-11-11T20:18:12.733659Z"
    },
    "papermill": {
     "duration": 0.132552,
     "end_time": "2022-02-24T01:47:18.614879",
     "exception": false,
     "start_time": "2022-02-24T01:47:18.482327",
     "status": "completed"
    },
    "tags": []
   },
   "outputs": [
    {
     "name": "stdout",
     "output_type": "stream",
     "text": [
      "Max leaf nodes: 10  \t\t Mean Absolute Error:  333908\n",
      "Max leaf nodes: 100  \t\t Mean Absolute Error:  269191\n",
      "Max leaf nodes: 500  \t\t Mean Absolute Error:  261718\n",
      "Max leaf nodes: 1000  \t\t Mean Absolute Error:  262426\n",
      "Max leaf nodes: 10000  \t\t Mean Absolute Error:  271996\n"
     ]
    }
   ],
   "source": [
    "#function to help compare MAE from different values of max_leaf_nodes\n",
    "from sklearn.metrics import mean_absolute_error\n",
    "from sklearn.tree import DecisionTreeRegressor\n",
    "\n",
    "def get_mae(max_leaf_nodes, train_X, test_X, train_y, test_y):\n",
    "    model = DecisionTreeRegressor(max_leaf_nodes=max_leaf_nodes, random_state=0)\n",
    "    model.fit(train_X, train_y)\n",
    "    preds_val = model.predict(test_X)\n",
    "    mae = mean_absolute_error(test_y, preds_val)\n",
    "    return(mae)\n",
    "\n",
    "for max_leaf_nodes in [10, 100, 500, 1000, 10000]:\n",
    "    my_mae = get_mae(max_leaf_nodes, train_X, test_X, train_y, test_y)\n",
    "    print(\"Max leaf nodes: %d  \\t\\t Mean Absolute Error:  %d\" %(max_leaf_nodes, my_mae))"
   ]
  },
  {
   "cell_type": "markdown",
   "id": "fiscal-speaker",
   "metadata": {
    "papermill": {
     "duration": 0.012242,
     "end_time": "2022-02-24T01:47:18.639862",
     "exception": false,
     "start_time": "2022-02-24T01:47:18.627620",
     "status": "completed"
    },
    "tags": []
   },
   "source": [
    "# 4. Using Random Forest Model"
   ]
  },
  {
   "cell_type": "code",
   "execution_count": 10,
   "id": "difficult-reference",
   "metadata": {
    "execution": {
     "iopub.execute_input": "2022-02-24T01:47:18.666900Z",
     "iopub.status.busy": "2022-02-24T01:47:18.666463Z",
     "iopub.status.idle": "2022-02-24T01:47:20.379296Z",
     "shell.execute_reply": "2022-02-24T01:47:20.378793Z",
     "shell.execute_reply.started": "2021-11-11T20:51:21.098876Z"
    },
    "papermill": {
     "duration": 1.72743,
     "end_time": "2022-02-24T01:47:20.379409",
     "exception": false,
     "start_time": "2022-02-24T01:47:18.651979",
     "status": "completed"
    },
    "tags": []
   },
   "outputs": [
    {
     "name": "stdout",
     "output_type": "stream",
     "text": [
      "207190.6873773146\n"
     ]
    }
   ],
   "source": [
    "from sklearn.ensemble import RandomForestRegressor\n",
    "from sklearn.metrics import mean_absolute_error\n",
    "\n",
    "melbourne_f_model = RandomForestRegressor(random_state = 1)\n",
    "melbourne_f_model.fit(train_X, train_y)\n",
    "f_test_predictions = melbourne_f_model.predict(test_X)\n",
    "f_mae = mean_absolute_error(test_y, f_test_predictions)\n",
    "\n",
    "print(f_mae)"
   ]
  },
  {
   "cell_type": "code",
   "execution_count": null,
   "id": "whole-teach",
   "metadata": {
    "papermill": {
     "duration": 0.0132,
     "end_time": "2022-02-24T01:47:20.405793",
     "exception": false,
     "start_time": "2022-02-24T01:47:20.392593",
     "status": "completed"
    },
    "tags": []
   },
   "outputs": [],
   "source": []
  }
 ],
 "metadata": {
  "kernelspec": {
   "display_name": "Python 3",
   "language": "python",
   "name": "python3"
  },
  "language_info": {
   "codemirror_mode": {
    "name": "ipython",
    "version": 3
   },
   "file_extension": ".py",
   "mimetype": "text/x-python",
   "name": "python",
   "nbconvert_exporter": "python",
   "pygments_lexer": "ipython3",
   "version": "3.7.3"
  },
  "papermill": {
   "default_parameters": {},
   "duration": 12.750406,
   "end_time": "2022-02-24T01:47:21.864055",
   "environment_variables": {},
   "exception": null,
   "input_path": "__notebook__.ipynb",
   "output_path": "__notebook__.ipynb",
   "parameters": {},
   "start_time": "2022-02-24T01:47:09.113649",
   "version": "2.3.3"
  }
 },
 "nbformat": 4,
 "nbformat_minor": 5
}
